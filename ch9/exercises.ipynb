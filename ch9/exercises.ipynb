{
 "cells": [
  {
   "cell_type": "markdown",
   "source": [
    "#Chapter 9\r\n",
    "\r\n",
    "before we used any non alphanumeric character as the spliter for the tokeniser\r\n",
    "\r\n",
    "this has a problem when working with urls, money, dates, emailaddress etc...\r\n",
    "\r\n",
    "words like we're \r\n",
    "\r\n",
    "City names New York\r\n",
    "\r\n",
    "other words which are commanly found together rock 'n' roll\r\n",
    "\r\n",
    "Some Languages dont have spaces between words\r\n",
    "\r\n",
    "So how do you find the boundaries should be? build a list of unique words from the Corpus\r\n",
    "\r\n",
    "## Byte Pair Encoding \r\n",
    "\r\n",
    "build a list ov vocab using all character\r\n",
    "then loop over each word building substrings that commonly appear in the words and add to vocab\r\n",
    "keep doing this until max number of merges appear\r\n",
    "\r\n",
    "Frequent words\r\n",
    "subwords\r\n",
    "\r\n",
    "\r\n"
   ],
   "metadata": {}
  },
  {
   "cell_type": "code",
   "execution_count": 1,
   "source": [
    "import numpy as np\r\n",
    "import re\r\n",
    "from operator import itemgetter\r\n",
    "\r\n",
    "Corpus = {\r\n",
    "    'l o w _':5,\r\n",
    "    'l o w e r _':2,\r\n",
    "    'n e w e s t _':6,\r\n",
    "    'w i d e s t _':3,\r\n",
    "    'h a p p i e r _':2\r\n",
    "}\r\n",
    "\r\n",
    "def getPairCounts(Corpus):\r\n",
    "    pairs = {}\r\n",
    "    for word,fr in Corpus.items():\r\n",
    "        symbols = word.split(' ')\r\n",
    "        for i in range(len(symbols)-1):\r\n",
    "            pair = (symbols[i],symbols[i+1])\r\n",
    "            cfr = pairs.get(pair,0)\r\n",
    "            pairs[pair] = cfr+fr\r\n",
    "    return pairs\r\n",
    "\r\n",
    "pairsCounts = getPairCounts(Corpus)\r\n",
    "pairsCounts"
   ],
   "outputs": [
    {
     "output_type": "execute_result",
     "data": {
      "text/plain": [
       "{('l', 'o'): 7,\n",
       " ('o', 'w'): 7,\n",
       " ('w', '_'): 5,\n",
       " ('w', 'e'): 8,\n",
       " ('e', 'r'): 4,\n",
       " ('r', '_'): 4,\n",
       " ('n', 'e'): 6,\n",
       " ('e', 'w'): 6,\n",
       " ('e', 's'): 9,\n",
       " ('s', 't'): 9,\n",
       " ('t', '_'): 9,\n",
       " ('w', 'i'): 3,\n",
       " ('i', 'd'): 3,\n",
       " ('d', 'e'): 3,\n",
       " ('h', 'a'): 2,\n",
       " ('a', 'p'): 2,\n",
       " ('p', 'p'): 2,\n",
       " ('p', 'i'): 2,\n",
       " ('i', 'e'): 2}"
      ]
     },
     "metadata": {},
     "execution_count": 1
    }
   ],
   "metadata": {}
  },
  {
   "cell_type": "code",
   "execution_count": 3,
   "source": [
    "def getBestPair(pairsCounts):\r\n",
    "    return max(pairsCounts,key=pairsCounts.get)\r\n",
    "\r\n",
    "\r\n",
    "print(getBestPair(pairsCounts))\r\n",
    "\r\n",
    "def mergeInCorpus(bestPair,Corpus):\r\n",
    "    newCorpus = {}\r\n",
    "    for word in Corpus:\r\n",
    "        newWord = re.sub(' '.join(bestPair),''.join(bestPair),word)\r\n",
    "        newCorpus[newWord] = Corpus[word]\r\n",
    "    return newCorpus\r\n",
    "\r\n",
    "\r\n",
    "bestPair = getBestPair(pairsCounts)\r\n",
    "newCorpus = mergeInCorpus(bestPair,Corpus)\r\n",
    "\r\n",
    "newCorpus"
   ],
   "outputs": [
    {
     "output_type": "stream",
     "name": "stdout",
     "text": [
      "('e', 's')\n"
     ]
    },
    {
     "output_type": "execute_result",
     "data": {
      "text/plain": [
       "{'l o w _': 5,\n",
       " 'l o w e r _': 2,\n",
       " 'n e w es t _': 6,\n",
       " 'w i d es t _': 3,\n",
       " 'h a p p i e r _': 2}"
      ]
     },
     "metadata": {},
     "execution_count": 3
    }
   ],
   "metadata": {}
  },
  {
   "cell_type": "code",
   "execution_count": 6,
   "source": [
    "def runBPE(Corpus,k):\r\n",
    "    bpeStats = {}\r\n",
    "    for i in range(k):\r\n",
    "        pairsCounts = getPairCounts(Corpus)\r\n",
    "        if not pairsCounts:\r\n",
    "            break\r\n",
    "        bestPair = getBestPair(pairsCounts)\r\n",
    "        bpeStats[bestPair] = i\r\n",
    "        Corpus = mergeInCorpus(bestPair,Corpus)\r\n",
    "    return Corpus,bpeStats\r\n",
    "\r\n",
    "Corpus = {\r\n",
    "    'l o w _':5,\r\n",
    "    'l o w e r _':2,\r\n",
    "    'n e w e s t _':6,\r\n",
    "    'w i d e s t _':3,\r\n",
    "    'h a p p i e r _':2\r\n",
    "}\r\n",
    "\r\n",
    "newCorpus,bpeStats = runBPE(Corpus,10)\r\n",
    "\r\n",
    "\r\n",
    "print(newCorpus)\r\n",
    "\r\n",
    "print(bpeStats)"
   ],
   "outputs": [
    {
     "output_type": "stream",
     "name": "stdout",
     "text": [
      "{'low_': 5, 'low er _': 2, 'newest_': 6, 'w i d est_': 3, 'h a p p i er _': 2}\n",
      "{('e', 's'): 0, ('es', 't'): 1, ('est', '_'): 2, ('l', 'o'): 3, ('lo', 'w'): 4, ('n', 'e'): 5, ('ne', 'w'): 6, ('new', 'est_'): 7, ('low', '_'): 8, ('e', 'r'): 9}\n"
     ]
    }
   ],
   "metadata": {}
  },
  {
   "cell_type": "code",
   "execution_count": 7,
   "source": [
    "newWord = 'lowest'\r\n",
    "newWord2 = ' '.join(list(newWord))+' _'\r\n",
    "\r\n",
    "\r\n",
    "def getAllPairs(word):\r\n",
    "    pairs = []\r\n",
    "    word = word.split(' ')\r\n",
    "    prevChar = word[0]\r\n",
    "    for char in word[1:]:\r\n",
    "        pairs.append((prevChar,char))\r\n",
    "        prevChar = char\r\n",
    "    return pairs\r\n",
    "\r\n",
    "pairs = getAllPairs(newWord2)\r\n",
    "\r\n",
    "pairs"
   ],
   "outputs": [
    {
     "output_type": "execute_result",
     "data": {
      "text/plain": [
       "[('l', 'o'), ('o', 'w'), ('w', 'e'), ('e', 's'), ('s', 't'), ('t', '_')]"
      ]
     },
     "metadata": {},
     "execution_count": 7
    }
   ],
   "metadata": {}
  },
  {
   "cell_type": "code",
   "execution_count": 8,
   "source": [
    "\r\n",
    "def getPairToBeMerged(bpeStats,pairs):\r\n",
    "    #bpeCodes = [(pair,bpeStats[pair]) for pair in pairs if pair in bpeStats]\r\n",
    "    bpeCodes = []\r\n",
    "    for pair in pairs:\r\n",
    "        if pair in bpeStats:\r\n",
    "            bpeCodes.append((pair,bpeStats[pair]))\r\n",
    "    if len(bpeCodes) == 0:\r\n",
    "        return (-1,-1)\r\n",
    "    pairToBeMerged = min(bpeCodes,key=itemgetter(1))[0]\r\n",
    "    return pairToBeMerged\r\n",
    "\r\n",
    "pairToBeMerged = getPairToBeMerged(bpeStats,pairs)\r\n",
    "\r\n",
    "def mergeLetters(word,pairToBeMerged):\r\n",
    "    newWord = re.sub(' '.join(pairToBeMerged),''.join(pairToBeMerged),word)\r\n",
    "    return newWord\r\n",
    "\r\n",
    "\r\n",
    "print(mergeLetters(newWord2,pairToBeMerged))"
   ],
   "outputs": [
    {
     "output_type": "stream",
     "name": "stdout",
     "text": [
      "l o w es t _\n"
     ]
    }
   ],
   "metadata": {}
  },
  {
   "cell_type": "code",
   "execution_count": 10,
   "source": [
    "def bpeTokenize(word,bpeStats):\r\n",
    "    if len(word) == 1:\r\n",
    "        return word\r\n",
    "    word = ' '.join(list(word))+' _'\r\n",
    "    while True:\r\n",
    "        pairs = getAllPairs(word)\r\n",
    "        pairToBeMerged = getPairToBeMerged(bpeStats,pairs)\r\n",
    "        if pairToBeMerged[0] == -1:\r\n",
    "            break\r\n",
    "        word = mergeLetters(word,pairToBeMerged)\r\n",
    "    return word\r\n",
    "\r\n",
    "    \r\n",
    "newWord = bpeTokenize('lowest',bpeStats)\r\n",
    "print(newWord)\r\n",
    "\r\n",
    "bpeStats"
   ],
   "outputs": [
    {
     "output_type": "stream",
     "name": "stdout",
     "text": [
      "low est_\n"
     ]
    },
    {
     "output_type": "execute_result",
     "data": {
      "text/plain": [
       "{('e', 's'): 0,\n",
       " ('es', 't'): 1,\n",
       " ('est', '_'): 2,\n",
       " ('l', 'o'): 3,\n",
       " ('lo', 'w'): 4,\n",
       " ('n', 'e'): 5,\n",
       " ('ne', 'w'): 6,\n",
       " ('new', 'est_'): 7,\n",
       " ('low', '_'): 8,\n",
       " ('e', 'r'): 9}"
      ]
     },
     "metadata": {},
     "execution_count": 10
    }
   ],
   "metadata": {}
  }
 ],
 "metadata": {
  "orig_nbformat": 4,
  "language_info": {
   "name": "python",
   "version": "3.8.5",
   "mimetype": "text/x-python",
   "codemirror_mode": {
    "name": "ipython",
    "version": 3
   },
   "pygments_lexer": "ipython3",
   "nbconvert_exporter": "python",
   "file_extension": ".py"
  },
  "kernelspec": {
   "name": "python3",
   "display_name": "Python 3.8.5 64-bit"
  },
  "interpreter": {
   "hash": "2db524e06e9f5f4ffedc911c917cb75e12dbc923643829bf417064a77eb14d37"
  }
 },
 "nbformat": 4,
 "nbformat_minor": 2
}