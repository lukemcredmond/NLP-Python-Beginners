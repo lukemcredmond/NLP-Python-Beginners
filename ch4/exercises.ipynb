{
 "cells": [
  {
   "cell_type": "markdown",
   "source": [
    "Regex Pattern Matching "
   ],
   "metadata": {}
  },
  {
   "cell_type": "code",
   "execution_count": 1,
   "source": [
    "import re\r\n",
    "\r\n",
    "p = re.compile('a\\d*b',re.IGNORECASE)\r\n",
    "p.findall('a234122b23456Ab')"
   ],
   "outputs": [
    {
     "output_type": "execute_result",
     "data": {
      "text/plain": [
       "['a234122b', 'Ab']"
      ]
     },
     "metadata": {},
     "execution_count": 1
    }
   ],
   "metadata": {}
  },
  {
   "cell_type": "markdown",
   "source": [
    "match -> returns only one match\r\n",
    "search -> returns only one match\r\n",
    "\r\n",
    "match checks the beging\r\n",
    "search returns the first match in string"
   ],
   "metadata": {}
  },
  {
   "cell_type": "markdown",
   "source": [
    "given a string, count the the number of space characters if any in the beginning of the document"
   ],
   "metadata": {}
  },
  {
   "cell_type": "code",
   "execution_count": 13,
   "source": [
    "strline = 'a     \\t    \\t  \\t    how are you today..aieha346t;'\r\n",
    "p = re.compile('\\s*')\r\n",
    "m = p.match(strline);\r\n",
    "print(len(m.group()))\r\n"
   ],
   "outputs": [
    {
     "output_type": "stream",
     "name": "stdout",
     "text": [
      "0\n"
     ]
    }
   ],
   "metadata": {}
  },
  {
   "cell_type": "markdown",
   "source": [
    "using the search "
   ],
   "metadata": {}
  },
  {
   "cell_type": "code",
   "execution_count": 18,
   "source": [
    "strline = 'a     \\t    \\t  \\t    how are you today..aieha346t;'\r\n",
    "p = re.compile('\\s+')\r\n",
    "\r\n",
    "m = p.match(strline)\r\n",
    "if(m == None):\r\n",
    "    print(0)\r\n",
    "else:\r\n",
    "    print(len(m.group()))\r\n",
    "\r\n",
    "s = p.search(strline);\r\n",
    "print(len(s.group()))"
   ],
   "outputs": [
    {
     "output_type": "stream",
     "name": "stdout",
     "text": [
      "0\n",
      "18\n"
     ]
    }
   ],
   "metadata": {}
  },
  {
   "cell_type": "markdown",
   "source": [
    "list the locations where the valid variables in a document exists\r\n",
    "\r\n",
    "finditer -> each value is a match object"
   ],
   "metadata": {}
  },
  {
   "cell_type": "code",
   "execution_count": 20,
   "source": [
    "\r\n",
    "strline = r'sadsdas;sdsdasdsd_asdsada@sdasds0{}1sadsdsaslpdlsplpslpdalspsdap';\r\n",
    "regexp = '[a-zA-Z_]\\w*'\r\n",
    "\r\n",
    "p = re.compile(regexp);\r\n",
    "\r\n",
    "m = p.finditer(strline)\r\n",
    "\r\n",
    "for item in m:\r\n",
    "    print(item)"
   ],
   "outputs": [
    {
     "output_type": "stream",
     "name": "stdout",
     "text": [
      "<re.Match object; span=(0, 7), match='sadsdas'>\n",
      "<re.Match object; span=(8, 25), match='sdsdasdsd_asdsada'>\n",
      "<re.Match object; span=(26, 33), match='sdasds0'>\n",
      "<re.Match object; span=(36, 64), match='sadsdsaslpdlsplpslpdalspsdap'>\n"
     ]
    }
   ],
   "metadata": {}
  }
 ],
 "metadata": {
  "orig_nbformat": 4,
  "language_info": {
   "name": "python",
   "version": "3.8.5",
   "mimetype": "text/x-python",
   "codemirror_mode": {
    "name": "ipython",
    "version": 3
   },
   "pygments_lexer": "ipython3",
   "nbconvert_exporter": "python",
   "file_extension": ".py"
  },
  "kernelspec": {
   "name": "python3",
   "display_name": "Python 3.8.5 64-bit"
  },
  "interpreter": {
   "hash": "2db524e06e9f5f4ffedc911c917cb75e12dbc923643829bf417064a77eb14d37"
  }
 },
 "nbformat": 4,
 "nbformat_minor": 2
}