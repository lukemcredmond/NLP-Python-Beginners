{
 "cells": [
  {
   "cell_type": "markdown",
   "metadata": {},
   "source": [
    "#Chapter 15\n",
    "\n",
    "word similarity / Cosine Similarity\n",
    "\n",
    "2 words \n",
    "\n",
    "w1 [.....], w2 [.....]\n",
    "\n",
    "make these into a coordinate \n",
    "\n",
    "compute the similarity between the two vectors"
   ]
  },
  {
   "cell_type": "code",
   "execution_count": 1,
   "metadata": {},
   "outputs": [
    {
     "data": {
      "text/plain": [
       "(108, 100)"
      ]
     },
     "execution_count": 1,
     "metadata": {},
     "output_type": "execute_result"
    }
   ],
   "source": [
    "import dill\n",
    "import numpy as np\n",
    "\n",
    "def saveModel(model,fileNameDotpkl):\n",
    "    with open(fileNameDotpkl,'wb') as f:\n",
    "        dill.dump(model,f)\n",
    "def loadModel(fileNameDotpkl):\n",
    "    with open(fileNameDotpkl,'rb') as f:\n",
    "        return dill.load(f)\n",
    "\n",
    "E,W2I,I2W,vocab = loadModel('../data/w2v_100d.pkl')\n",
    "\n",
    "E.shape\n",
    "\n",
    "#E[W2I['azure'],:]"
   ]
  },
  {
   "cell_type": "code",
   "execution_count": 2,
   "metadata": {},
   "outputs": [
    {
     "name": "stdout",
     "output_type": "stream",
     "text": [
      "0.6777922792556244 application\n",
      "0.5682181659339786 pipelines\n",
      "0.5424042115595893 container\n",
      "0.5106526802270114 setting\n",
      "0.42110082384235037 pipeline\n",
      "0.41397067200104903 up\n",
      "0.37999758369347403 for\n",
      "0.3799119565420121 hosted\n",
      "0.3707696638977539 based\n",
      "0.35721198279617694 agents\n"
     ]
    }
   ],
   "source": [
    "def getNorms(E):\n",
    "    if E.ndim == 1:\n",
    "        E = E[np.newaxis,:]\n",
    "    nrms = np.sum(E**2,axis=1)**0.5\n",
    "    return nrms\n",
    "\n",
    "def normalize(E):\n",
    "    if E.ndim == 1:\n",
    "        E = E[np.newaxis,:]\n",
    "    nrms = getNorms(E)\n",
    "    return E/nrms[:,np.newaxis]\n",
    "\n",
    "def cosineSimilarity(E,v):\n",
    "    E = normalize(E)\n",
    "    v = normalize(v)\n",
    "    scores = E.dot(v.T)\n",
    "    return scores\n",
    "\n",
    "def getMostSimilarWords(E,word,W2I,topn=10):\n",
    "    if type(word) is str:\n",
    "        v = E[W2I[word],:]\n",
    "    else:\n",
    "        v = word\n",
    "    scores = cosineSimilarity(E,v)\n",
    "    scores = scores.squeeze()\n",
    "    sortedScores = np.sort(scores)[::-1]\n",
    "    idx = np.argsort(scores)[::-1]\n",
    "    topNScores = sortedScores[:topn]\n",
    "    topNWordsIdx = idx[:topn]\n",
    "    return topNScores,topNWordsIdx\n",
    "    \n",
    "def analogy(E,W2I,man,woman,king):\n",
    "    v = E[W2I[king],:]-E[W2I[man],:]+E[W2I[woman],:]\n",
    "    scores,idx = getMostSimilarWords(E,v,W2I)\n",
    "    return scores,idx\n",
    "\n",
    "scores,idx = analogy(E,W2I,'project','application','pipelines')\n",
    "for i in range(len(idx)):\n",
    "    print(scores[i],I2W[idx[i]])"
   ]
  },
  {
   "cell_type": "markdown",
   "metadata": {},
   "source": [
    "## Word Visualization\n",
    "\n",
    "pip install plotly\n",
    "pip install nbformat\n",
    "\n",
    "had to restart after installing nbformat."
   ]
  },
  {
   "cell_type": "code",
   "execution_count": 3,
   "metadata": {},
   "outputs": [
    {
     "name": "stdout",
     "output_type": "stream",
     "text": [
      "(50, 100)\n",
      "(50, 3)\n",
      "(108, 100)\n",
      "(108, 3)\n"
     ]
    },
    {
     "data": {
      "application/vnd.plotly.v1+json": {
       "config": {
        "plotlyServerURL": "https://plot.ly"
       },
       "data": [
        {
         "hovertemplate": "C=azure<br>X=%{x}<br>Y=%{y}<br>Z=%{z}<extra></extra>",
         "legendgroup": "azure",
         "marker": {
          "color": "#636efa",
          "symbol": "circle"
         },
         "mode": "markers",
         "name": "azure",
         "scene": "scene",
         "showlegend": true,
         "type": "scatter3d",
         "x": [
          -1.5605417182380765
         ],
         "y": [
          -0.654112055648719
         ],
         "z": [
          0.7226018694763617
         ]
        },
        {
         "hovertemplate": "C=devops<br>X=%{x}<br>Y=%{y}<br>Z=%{z}<extra></extra>",
         "legendgroup": "devops",
         "marker": {
          "color": "#EF553B",
          "symbol": "circle"
         },
         "mode": "markers",
         "name": "devops",
         "scene": "scene",
         "showlegend": true,
         "type": "scatter3d",
         "x": [
          -0.6936725537386641
         ],
         "y": [
          0.14524158096453138
         ],
         "z": [
          0.537319060065579
         ]
        },
        {
         "hovertemplate": "C=with<br>X=%{x}<br>Y=%{y}<br>Z=%{z}<extra></extra>",
         "legendgroup": "with",
         "marker": {
          "color": "#00cc96",
          "symbol": "circle"
         },
         "mode": "markers",
         "name": "with",
         "scene": "scene",
         "showlegend": true,
         "type": "scatter3d",
         "x": [
          -1.213130339121376
         ],
         "y": [
          0.027517780889869458
         ],
         "z": [
          0.9340287023376749
         ]
        },
        {
         "hovertemplate": "C=and<br>X=%{x}<br>Y=%{y}<br>Z=%{z}<extra></extra>",
         "legendgroup": "and",
         "marker": {
          "color": "#ab63fa",
          "symbol": "circle"
         },
         "mode": "markers",
         "name": "and",
         "scene": "scene",
         "showlegend": true,
         "type": "scatter3d",
         "x": [
          0.086556415550772
         ],
         "y": [
          0.26216832849696065
         ],
         "z": [
          0.4149174131861522
         ]
        },
        {
         "hovertemplate": "C=your<br>X=%{x}<br>Y=%{y}<br>Z=%{z}<extra></extra>",
         "legendgroup": "your",
         "marker": {
          "color": "#FFA15A",
          "symbol": "circle"
         },
         "mode": "markers",
         "name": "your",
         "scene": "scene",
         "showlegend": true,
         "type": "scatter3d",
         "x": [
          -1.0979331952370996
         ],
         "y": [
          -0.7575248332612081
         ],
         "z": [
          0.21271378831631008
         ]
        },
        {
         "hovertemplate": "C=all<br>X=%{x}<br>Y=%{y}<br>Z=%{z}<extra></extra>",
         "legendgroup": "all",
         "marker": {
          "color": "#19d3f3",
          "symbol": "circle"
         },
         "mode": "markers",
         "name": "all",
         "scene": "scene",
         "showlegend": true,
         "type": "scatter3d",
         "x": [
          0.5316346549683494
         ],
         "y": [
          -0.20263052556794428
         ],
         "z": [
          0.881117734231862
         ]
        },
        {
         "hovertemplate": "C=of<br>X=%{x}<br>Y=%{y}<br>Z=%{z}<extra></extra>",
         "legendgroup": "of",
         "marker": {
          "color": "#FF6692",
          "symbol": "circle"
         },
         "mode": "markers",
         "name": "of",
         "scene": "scene",
         "showlegend": true,
         "type": "scatter3d",
         "x": [
          0.37271798981152443
         ],
         "y": [
          -0.3767028475855002
         ],
         "z": [
          0.38288431705677173
         ]
        },
        {
         "hovertemplate": "C=this<br>X=%{x}<br>Y=%{y}<br>Z=%{z}<extra></extra>",
         "legendgroup": "this",
         "marker": {
          "color": "#B6E880",
          "symbol": "circle"
         },
         "mode": "markers",
         "name": "this",
         "scene": "scene",
         "showlegend": true,
         "type": "scatter3d",
         "x": [
          1.4558217809326908
         ],
         "y": [
          -0.3668259770347274
         ],
         "z": [
          -0.15724624263932627
         ]
        },
        {
         "hovertemplate": "C=be<br>X=%{x}<br>Y=%{y}<br>Z=%{z}<extra></extra>",
         "legendgroup": "be",
         "marker": {
          "color": "#FF97FF",
          "symbol": "circle"
         },
         "mode": "markers",
         "name": "be",
         "scene": "scene",
         "showlegend": true,
         "type": "scatter3d",
         "x": [
          1.5068271100809871
         ],
         "y": [
          -0.5868154874042203
         ],
         "z": [
          0.6495991349760073
         ]
        },
        {
         "hovertemplate": "C=in<br>X=%{x}<br>Y=%{y}<br>Z=%{z}<extra></extra>",
         "legendgroup": "in",
         "marker": {
          "color": "#FECB52",
          "symbol": "circle"
         },
         "mode": "markers",
         "name": "in",
         "scene": "scene",
         "showlegend": true,
         "type": "scatter3d",
         "x": [
          0.6116237227837551
         ],
         "y": [
          0.20894716235123442
         ],
         "z": [
          0.09458173170028543
         ]
        },
        {
         "hovertemplate": "C=a<br>X=%{x}<br>Y=%{y}<br>Z=%{z}<extra></extra>",
         "legendgroup": "a",
         "marker": {
          "color": "#636efa",
          "symbol": "circle"
         },
         "mode": "markers",
         "name": "a",
         "scene": "scene",
         "showlegend": true,
         "type": "scatter3d",
         "x": [
          -1.2323502907048103
         ],
         "y": [
          0.02139975885565044
         ],
         "z": [
          -1.0558091691552896
         ]
        },
        {
         "hovertemplate": "C=or<br>X=%{x}<br>Y=%{y}<br>Z=%{z}<extra></extra>",
         "legendgroup": "or",
         "marker": {
          "color": "#EF553B",
          "symbol": "circle"
         },
         "mode": "markers",
         "name": "or",
         "scene": "scene",
         "showlegend": true,
         "type": "scatter3d",
         "x": [
          -0.7104938618570283
         ],
         "y": [
          0.8070180170228963
         ],
         "z": [
          1.0843484460075425
         ]
        },
        {
         "hovertemplate": "C=by<br>X=%{x}<br>Y=%{y}<br>Z=%{z}<extra></extra>",
         "legendgroup": "by",
         "marker": {
          "color": "#00cc96",
          "symbol": "circle"
         },
         "mode": "markers",
         "name": "by",
         "scene": "scene",
         "showlegend": true,
         "type": "scatter3d",
         "x": [
          -0.15912362987685502
         ],
         "y": [
          -0.36823541300704493
         ],
         "z": [
          0.7811364710238451
         ]
        },
        {
         "hovertemplate": "C=the<br>X=%{x}<br>Y=%{y}<br>Z=%{z}<extra></extra>",
         "legendgroup": "the",
         "marker": {
          "color": "#ab63fa",
          "symbol": "circle"
         },
         "mode": "markers",
         "name": "the",
         "scene": "scene",
         "showlegend": true,
         "type": "scatter3d",
         "x": [
          0.3903626016503974
         ],
         "y": [
          0.5148461819207172
         ],
         "z": [
          0.02966326689562968
         ]
        },
        {
         "hovertemplate": "C=to<br>X=%{x}<br>Y=%{y}<br>Z=%{z}<extra></extra>",
         "legendgroup": "to",
         "marker": {
          "color": "#FFA15A",
          "symbol": "circle"
         },
         "mode": "markers",
         "name": "to",
         "scene": "scene",
         "showlegend": true,
         "type": "scatter3d",
         "x": [
          1.166480724487503
         ],
         "y": [
          -0.49960565664285983
         ],
         "z": [
          0.04122096153047514
         ]
        },
        {
         "hovertemplate": "C=is<br>X=%{x}<br>Y=%{y}<br>Z=%{z}<extra></extra>",
         "legendgroup": "is",
         "marker": {
          "color": "#19d3f3",
          "symbol": "circle"
         },
         "mode": "markers",
         "name": "is",
         "scene": "scene",
         "showlegend": true,
         "type": "scatter3d",
         "x": [
          0.08038647373642335
         ],
         "y": [
          -0.4085105214925276
         ],
         "z": [
          0.16453371824728855
         ]
        },
        {
         "hovertemplate": "C=s<br>X=%{x}<br>Y=%{y}<br>Z=%{z}<extra></extra>",
         "legendgroup": "s",
         "marker": {
          "color": "#FF6692",
          "symbol": "circle"
         },
         "mode": "markers",
         "name": "s",
         "scene": "scene",
         "showlegend": true,
         "type": "scatter3d",
         "x": [
          0.385445717394921
         ],
         "y": [
          -0.5042774091978869
         ],
         "z": [
          0.43033455529404807
         ]
        },
        {
         "hovertemplate": "C=will<br>X=%{x}<br>Y=%{y}<br>Z=%{z}<extra></extra>",
         "legendgroup": "will",
         "marker": {
          "color": "#B6E880",
          "symbol": "circle"
         },
         "mode": "markers",
         "name": "will",
         "scene": "scene",
         "showlegend": true,
         "type": "scatter3d",
         "x": [
          2.0355532851625715
         ],
         "y": [
          -0.5085763810512114
         ],
         "z": [
          0.013593640806174142
         ]
        },
        {
         "hovertemplate": "C=for<br>X=%{x}<br>Y=%{y}<br>Z=%{z}<extra></extra>",
         "legendgroup": "for",
         "marker": {
          "color": "#FF97FF",
          "symbol": "circle"
         },
         "mode": "markers",
         "name": "for",
         "scene": "scene",
         "showlegend": true,
         "type": "scatter3d",
         "x": [
          -1.2237417422684473
         ],
         "y": [
          -1.1369222573709925
         ],
         "z": [
          -0.3514894698435616
         ]
        },
        {
         "hovertemplate": "C=have<br>X=%{x}<br>Y=%{y}<br>Z=%{z}<extra></extra>",
         "legendgroup": "have",
         "marker": {
          "color": "#FECB52",
          "symbol": "circle"
         },
         "mode": "markers",
         "name": "have",
         "scene": "scene",
         "showlegend": true,
         "type": "scatter3d",
         "x": [
          1.8073248634924879
         ],
         "y": [
          -0.6143305719641513
         ],
         "z": [
          0.044953363436520434
         ]
        },
        {
         "hovertemplate": "C=use<br>X=%{x}<br>Y=%{y}<br>Z=%{z}<extra></extra>",
         "legendgroup": "use",
         "marker": {
          "color": "#636efa",
          "symbol": "circle"
         },
         "mode": "markers",
         "name": "use",
         "scene": "scene",
         "showlegend": true,
         "type": "scatter3d",
         "x": [
          0.3435259165336957
         ],
         "y": [
          -1.376807839648687
         ],
         "z": [
          0.34110213493613506
         ]
        },
        {
         "hovertemplate": "C=development<br>X=%{x}<br>Y=%{y}<br>Z=%{z}<extra></extra>",
         "legendgroup": "development",
         "marker": {
          "color": "#EF553B",
          "symbol": "circle"
         },
         "mode": "markers",
         "name": "development",
         "scene": "scene",
         "showlegend": true,
         "type": "scatter3d",
         "x": [
          -0.40052218072482787
         ],
         "y": [
          -0.03344381138339385
         ],
         "z": [
          0.6634896239946132
         ]
        },
        {
         "hovertemplate": "C=project<br>X=%{x}<br>Y=%{y}<br>Z=%{z}<extra></extra>",
         "legendgroup": "project",
         "marker": {
          "color": "#00cc96",
          "symbol": "circle"
         },
         "mode": "markers",
         "name": "project",
         "scene": "scene",
         "showlegend": true,
         "type": "scatter3d",
         "x": [
          -0.2239657705202798
         ],
         "y": [
          0.6506929800525117
         ],
         "z": [
          -0.37344315142679385
         ]
        },
        {
         "hovertemplate": "C=1<br>X=%{x}<br>Y=%{y}<br>Z=%{z}<extra></extra>",
         "legendgroup": "1",
         "marker": {
          "color": "#ab63fa",
          "symbol": "circle"
         },
         "mode": "markers",
         "name": "1",
         "scene": "scene",
         "showlegend": true,
         "type": "scatter3d",
         "x": [
          -0.007513966779486025
         ],
         "y": [
          1.1828844937853473
         ],
         "z": [
          -1.0441280803652124
         ]
        },
        {
         "hovertemplate": "C=3<br>X=%{x}<br>Y=%{y}<br>Z=%{z}<extra></extra>",
         "legendgroup": "3",
         "marker": {
          "color": "#FFA15A",
          "symbol": "circle"
         },
         "mode": "markers",
         "name": "3",
         "scene": "scene",
         "showlegend": true,
         "type": "scatter3d",
         "x": [
          -0.6144911747745834
         ],
         "y": [
          2.980517486284938
         ],
         "z": [
          -0.36631524508970387
         ]
        },
        {
         "hovertemplate": "C=com<br>X=%{x}<br>Y=%{y}<br>Z=%{z}<extra></extra>",
         "legendgroup": "com",
         "marker": {
          "color": "#19d3f3",
          "symbol": "circle"
         },
         "mode": "markers",
         "name": "com",
         "scene": "scene",
         "showlegend": true,
         "type": "scatter3d",
         "x": [
          -1.1179510557549401
         ],
         "y": [
          -0.8173137758880984
         ],
         "z": [
          2.1978558137567665
         ]
        },
        {
         "hovertemplate": "C=our<br>X=%{x}<br>Y=%{y}<br>Z=%{z}<extra></extra>",
         "legendgroup": "our",
         "marker": {
          "color": "#FF6692",
          "symbol": "circle"
         },
         "mode": "markers",
         "name": "our",
         "scene": "scene",
         "showlegend": true,
         "type": "scatter3d",
         "x": [
          0.1733937473764489
         ],
         "y": [
          -0.7077458537154768
         ],
         "z": [
          -0.3657362827673224
         ]
        },
        {
         "hovertemplate": "C=as<br>X=%{x}<br>Y=%{y}<br>Z=%{z}<extra></extra>",
         "legendgroup": "as",
         "marker": {
          "color": "#B6E880",
          "symbol": "circle"
         },
         "mode": "markers",
         "name": "as",
         "scene": "scene",
         "showlegend": true,
         "type": "scatter3d",
         "x": [
          -0.6862761336898237
         ],
         "y": [
          -0.48064867857338656
         ],
         "z": [
          0.2826845494240374
         ]
        },
        {
         "hovertemplate": "C=you<br>X=%{x}<br>Y=%{y}<br>Z=%{z}<extra></extra>",
         "legendgroup": "you",
         "marker": {
          "color": "#FF97FF",
          "symbol": "circle"
         },
         "mode": "markers",
         "name": "you",
         "scene": "scene",
         "showlegend": true,
         "type": "scatter3d",
         "x": [
          1.7970543512516488
         ],
         "y": [
          -0.4705133367217929
         ],
         "z": [
          0.17323322348960699
         ]
        },
        {
         "hovertemplate": "C=from<br>X=%{x}<br>Y=%{y}<br>Z=%{z}<extra></extra>",
         "legendgroup": "from",
         "marker": {
          "color": "#FECB52",
          "symbol": "circle"
         },
         "mode": "markers",
         "name": "from",
         "scene": "scene",
         "showlegend": true,
         "type": "scatter3d",
         "x": [
          -0.3739344528213054
         ],
         "y": [
          1.59159084327709
         ],
         "z": [
          2.130183004668478
         ]
        },
        {
         "hovertemplate": "C=4<br>X=%{x}<br>Y=%{y}<br>Z=%{z}<extra></extra>",
         "legendgroup": "4",
         "marker": {
          "color": "#636efa",
          "symbol": "circle"
         },
         "mode": "markers",
         "name": "4",
         "scene": "scene",
         "showlegend": true,
         "type": "scatter3d",
         "x": [
          -0.5435839664704872
         ],
         "y": [
          1.6716507333802864
         ],
         "z": [
          -1.8103099800942506
         ]
        },
        {
         "hovertemplate": "C=that<br>X=%{x}<br>Y=%{y}<br>Z=%{z}<extra></extra>",
         "legendgroup": "that",
         "marker": {
          "color": "#EF553B",
          "symbol": "circle"
         },
         "mode": "markers",
         "name": "that",
         "scene": "scene",
         "showlegend": true,
         "type": "scatter3d",
         "x": [
          1.687354985810979
         ],
         "y": [
          -0.6960726982683313
         ],
         "z": [
          0.5610840596650946
         ]
        },
        {
         "hovertemplate": "C=can<br>X=%{x}<br>Y=%{y}<br>Z=%{z}<extra></extra>",
         "legendgroup": "can",
         "marker": {
          "color": "#00cc96",
          "symbol": "circle"
         },
         "mode": "markers",
         "name": "can",
         "scene": "scene",
         "showlegend": true,
         "type": "scatter3d",
         "x": [
          1.1982386584896934
         ],
         "y": [
          -0.3665559795749654
         ],
         "z": [
          0.8153195898451907
         ]
        },
        {
         "hovertemplate": "C=at<br>X=%{x}<br>Y=%{y}<br>Z=%{z}<extra></extra>",
         "legendgroup": "at",
         "marker": {
          "color": "#ab63fa",
          "symbol": "circle"
         },
         "mode": "markers",
         "name": "at",
         "scene": "scene",
         "showlegend": true,
         "type": "scatter3d",
         "x": [
          1.6841428878981162
         ],
         "y": [
          -0.8935104309663089
         ],
         "z": [
          0.7365642607737425
         ]
        },
        {
         "hovertemplate": "C=are<br>X=%{x}<br>Y=%{y}<br>Z=%{z}<extra></extra>",
         "legendgroup": "are",
         "marker": {
          "color": "#FFA15A",
          "symbol": "circle"
         },
         "mode": "markers",
         "name": "are",
         "scene": "scene",
         "showlegend": true,
         "type": "scatter3d",
         "x": [
          1.9303771346660055
         ],
         "y": [
          -1.0699011968467913
         ],
         "z": [
          0.44505120970887113
         ]
        },
        {
         "hovertemplate": "C=on<br>X=%{x}<br>Y=%{y}<br>Z=%{z}<extra></extra>",
         "legendgroup": "on",
         "marker": {
          "color": "#19d3f3",
          "symbol": "circle"
         },
         "mode": "markers",
         "name": "on",
         "scene": "scene",
         "showlegend": true,
         "type": "scatter3d",
         "x": [
          -0.4770138397721882
         ],
         "y": [
          0.7702274489458221
         ],
         "z": [
          -0.6308950148391146
         ]
        },
        {
         "hovertemplate": "C=also<br>X=%{x}<br>Y=%{y}<br>Z=%{z}<extra></extra>",
         "legendgroup": "also",
         "marker": {
          "color": "#FF6692",
          "symbol": "circle"
         },
         "mode": "markers",
         "name": "also",
         "scene": "scene",
         "showlegend": true,
         "type": "scatter3d",
         "x": [
          1.5094394622268368
         ],
         "y": [
          -0.617100028507407
         ],
         "z": [
          0.6912762324766835
         ]
        },
        {
         "hovertemplate": "C=up<br>X=%{x}<br>Y=%{y}<br>Z=%{z}<extra></extra>",
         "legendgroup": "up",
         "marker": {
          "color": "#B6E880",
          "symbol": "circle"
         },
         "mode": "markers",
         "name": "up",
         "scene": "scene",
         "showlegend": true,
         "type": "scatter3d",
         "x": [
          -2.1745929872018737
         ],
         "y": [
          -2.728682738470339
         ],
         "z": [
          -1.6949337884449556
         ]
        },
        {
         "hovertemplate": "C=microsoft<br>X=%{x}<br>Y=%{y}<br>Z=%{z}<extra></extra>",
         "legendgroup": "microsoft",
         "marker": {
          "color": "#FF97FF",
          "symbol": "circle"
         },
         "mode": "markers",
         "name": "microsoft",
         "scene": "scene",
         "showlegend": true,
         "type": "scatter3d",
         "x": [
          -1.878977995258401
         ],
         "y": [
          -2.063739033357609
         ],
         "z": [
          2.066561283620093
         ]
        },
        {
         "hovertemplate": "C=an<br>X=%{x}<br>Y=%{y}<br>Z=%{z}<extra></extra>",
         "legendgroup": "an",
         "marker": {
          "color": "#FECB52",
          "symbol": "circle"
         },
         "mode": "markers",
         "name": "an",
         "scene": "scene",
         "showlegend": true,
         "type": "scatter3d",
         "x": [
          -0.47817649725144273
         ],
         "y": [
          -0.5853412995005567
         ],
         "z": [
          -0.7775821578632088
         ]
        },
        {
         "hovertemplate": "C=it<br>X=%{x}<br>Y=%{y}<br>Z=%{z}<extra></extra>",
         "legendgroup": "it",
         "marker": {
          "color": "#636efa",
          "symbol": "circle"
         },
         "mode": "markers",
         "name": "it",
         "scene": "scene",
         "showlegend": true,
         "type": "scatter3d",
         "x": [
          0.4785312382861617
         ],
         "y": [
          -0.335519552751529
         ],
         "z": [
          0.5307411572799419
         ]
        },
        {
         "hovertemplate": "C=now<br>X=%{x}<br>Y=%{y}<br>Z=%{z}<extra></extra>",
         "legendgroup": "now",
         "marker": {
          "color": "#EF553B",
          "symbol": "circle"
         },
         "mode": "markers",
         "name": "now",
         "scene": "scene",
         "showlegend": true,
         "type": "scatter3d",
         "x": [
          1.4931006088593883
         ],
         "y": [
          -0.34047430944960755
         ],
         "z": [
          -1.1376819280829098
         ]
        },
        {
         "hovertemplate": "C=work<br>X=%{x}<br>Y=%{y}<br>Z=%{z}<extra></extra>",
         "legendgroup": "work",
         "marker": {
          "color": "#00cc96",
          "symbol": "circle"
         },
         "mode": "markers",
         "name": "work",
         "scene": "scene",
         "showlegend": true,
         "type": "scatter3d",
         "x": [
          0.5001341757248948
         ],
         "y": [
          0.3300948841772937
         ],
         "z": [
          1.4624558968143715
         ]
        },
        {
         "hovertemplate": "C=using<br>X=%{x}<br>Y=%{y}<br>Z=%{z}<extra></extra>",
         "legendgroup": "using",
         "marker": {
          "color": "#ab63fa",
          "symbol": "circle"
         },
         "mode": "markers",
         "name": "using",
         "scene": "scene",
         "showlegend": true,
         "type": "scatter3d",
         "x": [
          -0.818335854471051
         ],
         "y": [
          -0.9968079064273365
         ],
         "z": [
          0.6885546876647445
         ]
        },
        {
         "hovertemplate": "C=application<br>X=%{x}<br>Y=%{y}<br>Z=%{z}<extra></extra>",
         "legendgroup": "application",
         "marker": {
          "color": "#FFA15A",
          "symbol": "circle"
         },
         "mode": "markers",
         "name": "application",
         "scene": "scene",
         "showlegend": true,
         "type": "scatter3d",
         "x": [
          -1.1333136536836739
         ],
         "y": [
          -1.6309191404669596
         ],
         "z": [
          -1.0059642174861376
         ]
        },
        {
         "hovertemplate": "C=6<br>X=%{x}<br>Y=%{y}<br>Z=%{z}<extra></extra>",
         "legendgroup": "6",
         "marker": {
          "color": "#19d3f3",
          "symbol": "circle"
         },
         "mode": "markers",
         "name": "6",
         "scene": "scene",
         "showlegend": true,
         "type": "scatter3d",
         "x": [
          -0.5780968329569931
         ],
         "y": [
          1.835755178854493
         ],
         "z": [
          -1.94854325853358
         ]
        },
        {
         "hovertemplate": "C=new<br>X=%{x}<br>Y=%{y}<br>Z=%{z}<extra></extra>",
         "legendgroup": "new",
         "marker": {
          "color": "#FF6692",
          "symbol": "circle"
         },
         "mode": "markers",
         "name": "new",
         "scene": "scene",
         "showlegend": true,
         "type": "scatter3d",
         "x": [
          -0.42634763678616966
         ],
         "y": [
          1.8878375722241398
         ],
         "z": [
          -1.2143188605852548
         ]
        },
        {
         "hovertemplate": "C=if<br>X=%{x}<br>Y=%{y}<br>Z=%{z}<extra></extra>",
         "legendgroup": "if",
         "marker": {
          "color": "#B6E880",
          "symbol": "circle"
         },
         "mode": "markers",
         "name": "if",
         "scene": "scene",
         "showlegend": true,
         "type": "scatter3d",
         "x": [
          0.9651105023492884
         ],
         "y": [
          -0.0664233798631993
         ],
         "z": [
          0.04390456865992012
         ]
        },
        {
         "hovertemplate": "C=we<br>X=%{x}<br>Y=%{y}<br>Z=%{z}<extra></extra>",
         "legendgroup": "we",
         "marker": {
          "color": "#FF97FF",
          "symbol": "circle"
         },
         "mode": "markers",
         "name": "we",
         "scene": "scene",
         "showlegend": true,
         "type": "scatter3d",
         "x": [
          4.218977925529681
         ],
         "y": [
          -1.1987392257167002
         ],
         "z": [
          -1.0883691877161694
         ]
        },
        {
         "hovertemplate": "C=section<br>X=%{x}<br>Y=%{y}<br>Z=%{z}<extra></extra>",
         "legendgroup": "section",
         "marker": {
          "color": "#FECB52",
          "symbol": "circle"
         },
         "mode": "markers",
         "name": "section",
         "scene": "scene",
         "showlegend": true,
         "type": "scatter3d",
         "x": [
          2.6250333019837093
         ],
         "y": [
          -0.5707190225376053
         ],
         "z": [
          -0.8234107705485462
         ]
        },
        {
         "hovertemplate": "C=2<br>X=%{x}<br>Y=%{y}<br>Z=%{z}<extra></extra>",
         "legendgroup": "2",
         "marker": {
          "color": "#636efa",
          "symbol": "circle"
         },
         "mode": "markers",
         "name": "2",
         "scene": "scene",
         "showlegend": true,
         "type": "scatter3d",
         "x": [
          -0.5170874313576788
         ],
         "y": [
          1.7487068197676585
         ],
         "z": [
          -1.0618947403538044
         ]
        },
        {
         "hovertemplate": "C=create<br>X=%{x}<br>Y=%{y}<br>Z=%{z}<extra></extra>",
         "legendgroup": "create",
         "marker": {
          "color": "#EF553B",
          "symbol": "circle"
         },
         "mode": "markers",
         "name": "create",
         "scene": "scene",
         "showlegend": true,
         "type": "scatter3d",
         "x": [
          0.4140095722223141
         ],
         "y": [
          0.9200799187963971
         ],
         "z": [
          -0.912102174207025
         ]
        },
        {
         "hovertemplate": "C=5<br>X=%{x}<br>Y=%{y}<br>Z=%{z}<extra></extra>",
         "legendgroup": "5",
         "marker": {
          "color": "#00cc96",
          "symbol": "circle"
         },
         "mode": "markers",
         "name": "5",
         "scene": "scene",
         "showlegend": true,
         "type": "scatter3d",
         "x": [
          -0.17193963491064687
         ],
         "y": [
          1.708362424260131
         ],
         "z": [
          -0.8238670568807692
         ]
        },
        {
         "hovertemplate": "C=ci<br>X=%{x}<br>Y=%{y}<br>Z=%{z}<extra></extra>",
         "legendgroup": "ci",
         "marker": {
          "color": "#ab63fa",
          "symbol": "circle"
         },
         "mode": "markers",
         "name": "ci",
         "scene": "scene",
         "showlegend": true,
         "type": "scatter3d",
         "x": [
          -1.901049132979397
         ],
         "y": [
          -1.6891219634251424
         ],
         "z": [
          -1.22597713613225
         ]
        },
        {
         "hovertemplate": "C=cd<br>X=%{x}<br>Y=%{y}<br>Z=%{z}<extra></extra>",
         "legendgroup": "cd",
         "marker": {
          "color": "#FFA15A",
          "symbol": "circle"
         },
         "mode": "markers",
         "name": "cd",
         "scene": "scene",
         "showlegend": true,
         "type": "scatter3d",
         "x": [
          -1.7786551214301904
         ],
         "y": [
          -1.409651901297343
         ],
         "z": [
          -0.8988410339609324
         ]
        },
        {
         "hovertemplate": "C=control<br>X=%{x}<br>Y=%{y}<br>Z=%{z}<extra></extra>",
         "legendgroup": "control",
         "marker": {
          "color": "#19d3f3",
          "symbol": "circle"
         },
         "mode": "markers",
         "name": "control",
         "scene": "scene",
         "showlegend": true,
         "type": "scatter3d",
         "x": [
          -0.8786576583510489
         ],
         "y": [
          1.2016569654096556
         ],
         "z": [
          1.22186787657156
         ]
        },
        {
         "hovertemplate": "C=code<br>X=%{x}<br>Y=%{y}<br>Z=%{z}<extra></extra>",
         "legendgroup": "code",
         "marker": {
          "color": "#FF6692",
          "symbol": "circle"
         },
         "mode": "markers",
         "name": "code",
         "scene": "scene",
         "showlegend": true,
         "type": "scatter3d",
         "x": [
          -0.34990598234305614
         ],
         "y": [
          0.8581591423158148
         ],
         "z": [
          1.8450293285006385
         ]
        },
        {
         "hovertemplate": "C=boards<br>X=%{x}<br>Y=%{y}<br>Z=%{z}<extra></extra>",
         "legendgroup": "boards",
         "marker": {
          "color": "#B6E880",
          "symbol": "circle"
         },
         "mode": "markers",
         "name": "boards",
         "scene": "scene",
         "showlegend": true,
         "type": "scatter3d",
         "x": [
          -0.2564928561233376
         ],
         "y": [
          0.3964474008235153
         ],
         "z": [
          1.7459163556032828
         ]
        },
        {
         "hovertemplate": "C=pipelines<br>X=%{x}<br>Y=%{y}<br>Z=%{z}<extra></extra>",
         "legendgroup": "pipelines",
         "marker": {
          "color": "#FF97FF",
          "symbol": "circle"
         },
         "mode": "markers",
         "name": "pipelines",
         "scene": "scene",
         "showlegend": true,
         "type": "scatter3d",
         "x": [
          -0.9860093263619183
         ],
         "y": [
          -0.5538684897631035
         ],
         "z": [
          0.05862541939921931
         ]
        },
        {
         "hovertemplate": "C=test<br>X=%{x}<br>Y=%{y}<br>Z=%{z}<extra></extra>",
         "legendgroup": "test",
         "marker": {
          "color": "#FECB52",
          "symbol": "circle"
         },
         "mode": "markers",
         "name": "test",
         "scene": "scene",
         "showlegend": true,
         "type": "scatter3d",
         "x": [
          -0.29301084160314916
         ],
         "y": [
          0.2242692090385614
         ],
         "z": [
          0.6214821244974293
         ]
        },
        {
         "hovertemplate": "C=artifacts<br>X=%{x}<br>Y=%{y}<br>Z=%{z}<extra></extra>",
         "legendgroup": "artifacts",
         "marker": {
          "color": "#636efa",
          "symbol": "circle"
         },
         "mode": "markers",
         "name": "artifacts",
         "scene": "scene",
         "showlegend": true,
         "type": "scatter3d",
         "x": [
          -0.04020843781879762
         ],
         "y": [
          0.2024053080277294
         ],
         "z": [
          0.5578855756213629
         ]
        },
        {
         "hovertemplate": "C=creating<br>X=%{x}<br>Y=%{y}<br>Z=%{z}<extra></extra>",
         "legendgroup": "creating",
         "marker": {
          "color": "#EF553B",
          "symbol": "circle"
         },
         "mode": "markers",
         "name": "creating",
         "scene": "scene",
         "showlegend": true,
         "type": "scatter3d",
         "x": [
          -1.3219061143948119
         ],
         "y": [
          0.950166089069368
         ],
         "z": [
          -1.4644000513672095
         ]
        },
        {
         "hovertemplate": "C=organization<br>X=%{x}<br>Y=%{y}<br>Z=%{z}<extra></extra>",
         "legendgroup": "organization",
         "marker": {
          "color": "#00cc96",
          "symbol": "circle"
         },
         "mode": "markers",
         "name": "organization",
         "scene": "scene",
         "showlegend": true,
         "type": "scatter3d",
         "x": [
          -0.25163403013964114
         ],
         "y": [
          0.0421410254036187
         ],
         "z": [
          -0.23081747488273324
         ]
        },
        {
         "hovertemplate": "C=items<br>X=%{x}<br>Y=%{y}<br>Z=%{z}<extra></extra>",
         "legendgroup": "items",
         "marker": {
          "color": "#ab63fa",
          "symbol": "circle"
         },
         "mode": "markers",
         "name": "items",
         "scene": "scene",
         "showlegend": true,
         "type": "scatter3d",
         "x": [
          0.8191929164520102
         ],
         "y": [
          0.014889934363198852
         ],
         "z": [
          1.895486657628128
         ]
        },
        {
         "hovertemplate": "C=source<br>X=%{x}<br>Y=%{y}<br>Z=%{z}<extra></extra>",
         "legendgroup": "source",
         "marker": {
          "color": "#FFA15A",
          "symbol": "circle"
         },
         "mode": "markers",
         "name": "source",
         "scene": "scene",
         "showlegend": true,
         "type": "scatter3d",
         "x": [
          -0.8172239136077136
         ],
         "y": [
          1.348924919489003
         ],
         "z": [
          1.4787601969667228
         ]
        },
        {
         "hovertemplate": "C=github<br>X=%{x}<br>Y=%{y}<br>Z=%{z}<extra></extra>",
         "legendgroup": "github",
         "marker": {
          "color": "#19d3f3",
          "symbol": "circle"
         },
         "mode": "markers",
         "name": "github",
         "scene": "scene",
         "showlegend": true,
         "type": "scatter3d",
         "x": [
          -0.7105474523257667
         ],
         "y": [
          0.217251834676489
         ],
         "z": [
          1.9401630868322677
         ]
        },
        {
         "hovertemplate": "C=repository<br>X=%{x}<br>Y=%{y}<br>Z=%{z}<extra></extra>",
         "legendgroup": "repository",
         "marker": {
          "color": "#FF6692",
          "symbol": "circle"
         },
         "mode": "markers",
         "name": "repository",
         "scene": "scene",
         "showlegend": true,
         "type": "scatter3d",
         "x": [
          -0.5933849275565445
         ],
         "y": [
          0.8208844393939925
         ],
         "z": [
          0.8004992144958762
         ]
        },
        {
         "hovertemplate": "C=pull<br>X=%{x}<br>Y=%{y}<br>Z=%{z}<extra></extra>",
         "legendgroup": "pull",
         "marker": {
          "color": "#B6E880",
          "symbol": "circle"
         },
         "mode": "markers",
         "name": "pull",
         "scene": "scene",
         "showlegend": true,
         "type": "scatter3d",
         "x": [
          -0.7653742865241646
         ],
         "y": [
          2.0325646604203467
         ],
         "z": [
          0.04266199455083556
         ]
        },
        {
         "hovertemplate": "C=request<br>X=%{x}<br>Y=%{y}<br>Z=%{z}<extra></extra>",
         "legendgroup": "request",
         "marker": {
          "color": "#FF97FF",
          "symbol": "circle"
         },
         "mode": "markers",
         "name": "request",
         "scene": "scene",
         "showlegend": true,
         "type": "scatter3d",
         "x": [
          -0.5672986043874799
         ],
         "y": [
          1.8677519546380263
         ],
         "z": [
          0.5549204740424433
         ]
        },
        {
         "hovertemplate": "C=branch<br>X=%{x}<br>Y=%{y}<br>Z=%{z}<extra></extra>",
         "legendgroup": "branch",
         "marker": {
          "color": "#FECB52",
          "symbol": "circle"
         },
         "mode": "markers",
         "name": "branch",
         "scene": "scene",
         "showlegend": true,
         "type": "scatter3d",
         "x": [
          -0.35633997378046
         ],
         "y": [
          1.9922595398264513
         ],
         "z": [
          0.35610460937408006
         ]
        },
        {
         "hovertemplate": "C=visual<br>X=%{x}<br>Y=%{y}<br>Z=%{z}<extra></extra>",
         "legendgroup": "visual",
         "marker": {
          "color": "#636efa",
          "symbol": "circle"
         },
         "mode": "markers",
         "name": "visual",
         "scene": "scene",
         "showlegend": true,
         "type": "scatter3d",
         "x": [
          -0.544527240815454
         ],
         "y": [
          1.8885251745013916
         ],
         "z": [
          1.958923070479459
         ]
        },
        {
         "hovertemplate": "C=studio<br>X=%{x}<br>Y=%{y}<br>Z=%{z}<extra></extra>",
         "legendgroup": "studio",
         "marker": {
          "color": "#EF553B",
          "symbol": "circle"
         },
         "mode": "markers",
         "name": "studio",
         "scene": "scene",
         "showlegend": true,
         "type": "scatter3d",
         "x": [
          -0.483088043365714
         ],
         "y": [
          1.5791545070232693
         ],
         "z": [
          2.1313287380294548
         ]
        },
        {
         "hovertemplate": "C=release<br>X=%{x}<br>Y=%{y}<br>Z=%{z}<extra></extra>",
         "legendgroup": "release",
         "marker": {
          "color": "#00cc96",
          "symbol": "circle"
         },
         "mode": "markers",
         "name": "release",
         "scene": "scene",
         "showlegend": true,
         "type": "scatter3d",
         "x": [
          -0.9136226045803169
         ],
         "y": [
          0.335253017999081
         ],
         "z": [
          -1.1741330971180564
         ]
        },
        {
         "hovertemplate": "C=build<br>X=%{x}<br>Y=%{y}<br>Z=%{z}<extra></extra>",
         "legendgroup": "build",
         "marker": {
          "color": "#ab63fa",
          "symbol": "circle"
         },
         "mode": "markers",
         "name": "build",
         "scene": "scene",
         "showlegend": true,
         "type": "scatter3d",
         "x": [
          -0.8397500382314664
         ],
         "y": [
          -0.011733689535495568
         ],
         "z": [
          -0.5345706025789583
         ]
        },
        {
         "hovertemplate": "C=agents<br>X=%{x}<br>Y=%{y}<br>Z=%{z}<extra></extra>",
         "legendgroup": "agents",
         "marker": {
          "color": "#FFA15A",
          "symbol": "circle"
         },
         "mode": "markers",
         "name": "agents",
         "scene": "scene",
         "showlegend": true,
         "type": "scatter3d",
         "x": [
          -1.9182303830221883
         ],
         "y": [
          -2.775510270807708
         ],
         "z": [
          0.18899758224212895
         ]
        },
        {
         "hovertemplate": "C=hosted<br>X=%{x}<br>Y=%{y}<br>Z=%{z}<extra></extra>",
         "legendgroup": "hosted",
         "marker": {
          "color": "#19d3f3",
          "symbol": "circle"
         },
         "mode": "markers",
         "name": "hosted",
         "scene": "scene",
         "showlegend": true,
         "type": "scatter3d",
         "x": [
          -2.0545357475575368
         ],
         "y": [
          -2.756437833492121
         ],
         "z": [
          0.11848466921472785
         ]
        },
        {
         "hovertemplate": "C=when<br>X=%{x}<br>Y=%{y}<br>Z=%{z}<extra></extra>",
         "legendgroup": "when",
         "marker": {
          "color": "#FF6692",
          "symbol": "circle"
         },
         "mode": "markers",
         "name": "when",
         "scene": "scene",
         "showlegend": true,
         "type": "scatter3d",
         "x": [
          0.5400547482624287
         ],
         "y": [
          -0.050355093430569514
         ],
         "z": [
          0.06895777647266009
         ]
        },
        {
         "hovertemplate": "C=agent<br>X=%{x}<br>Y=%{y}<br>Z=%{z}<extra></extra>",
         "legendgroup": "agent",
         "marker": {
          "color": "#B6E880",
          "symbol": "circle"
         },
         "mode": "markers",
         "name": "agent",
         "scene": "scene",
         "showlegend": true,
         "type": "scatter3d",
         "x": [
          -1.5134077503371444
         ],
         "y": [
          -0.7248236707217022
         ],
         "z": [
          -0.9730985130782402
         ]
        },
        {
         "hovertemplate": "C=pipeline<br>X=%{x}<br>Y=%{y}<br>Z=%{z}<extra></extra>",
         "legendgroup": "pipeline",
         "marker": {
          "color": "#FF97FF",
          "symbol": "circle"
         },
         "mode": "markers",
         "name": "pipeline",
         "scene": "scene",
         "showlegend": true,
         "type": "scatter3d",
         "x": [
          -1.7270746383560287
         ],
         "y": [
          -0.7180475633013205
         ],
         "z": [
          -1.4974837068688425
         ]
        },
        {
         "hovertemplate": "C=stage<br>X=%{x}<br>Y=%{y}<br>Z=%{z}<extra></extra>",
         "legendgroup": "stage",
         "marker": {
          "color": "#FECB52",
          "symbol": "circle"
         },
         "mode": "markers",
         "name": "stage",
         "scene": "scene",
         "showlegend": true,
         "type": "scatter3d",
         "x": [
          -0.5203163901072013
         ],
         "y": [
          0.519368070997279
         ],
         "z": [
          -1.3230364856106909
         ]
        },
        {
         "hovertemplate": "C=container<br>X=%{x}<br>Y=%{y}<br>Z=%{z}<extra></extra>",
         "legendgroup": "container",
         "marker": {
          "color": "#636efa",
          "symbol": "circle"
         },
         "mode": "markers",
         "name": "container",
         "scene": "scene",
         "showlegend": true,
         "type": "scatter3d",
         "x": [
          -1.6527557540727813
         ],
         "y": [
          -1.9695461123844293
         ],
         "z": [
          -0.3859871883312465
         ]
        },
        {
         "hovertemplate": "C=testing<br>X=%{x}<br>Y=%{y}<br>Z=%{z}<extra></extra>",
         "legendgroup": "testing",
         "marker": {
          "color": "#EF553B",
          "symbol": "circle"
         },
         "mode": "markers",
         "name": "testing",
         "scene": "scene",
         "showlegend": true,
         "type": "scatter3d",
         "x": [
          -0.226684950008502
         ],
         "y": [
          -0.04003233623247978
         ],
         "z": [
          1.5077644672187835
         ]
        },
        {
         "hovertemplate": "C=setting<br>X=%{x}<br>Y=%{y}<br>Z=%{z}<extra></extra>",
         "legendgroup": "setting",
         "marker": {
          "color": "#00cc96",
          "symbol": "circle"
         },
         "mode": "markers",
         "name": "setting",
         "scene": "scene",
         "showlegend": true,
         "type": "scatter3d",
         "x": [
          -2.1303330390267843
         ],
         "y": [
          -2.4474872868229833
         ],
         "z": [
          -1.5751234689597386
         ]
        },
        {
         "hovertemplate": "C=set<br>X=%{x}<br>Y=%{y}<br>Z=%{z}<extra></extra>",
         "legendgroup": "set",
         "marker": {
          "color": "#ab63fa",
          "symbol": "circle"
         },
         "mode": "markers",
         "name": "set",
         "scene": "scene",
         "showlegend": true,
         "type": "scatter3d",
         "x": [
          0.42326699900332304
         ],
         "y": [
          -1.218536124744359
         ],
         "z": [
          -1.1968360232122992
         ]
        },
        {
         "hovertemplate": "C=package<br>X=%{x}<br>Y=%{y}<br>Z=%{z}<extra></extra>",
         "legendgroup": "package",
         "marker": {
          "color": "#FFA15A",
          "symbol": "circle"
         },
         "mode": "markers",
         "name": "package",
         "scene": "scene",
         "showlegend": true,
         "type": "scatter3d",
         "x": [
          -0.3437586238360864
         ],
         "y": [
          0.4955100205162803
         ],
         "z": [
          0.42526259692396906
         ]
        },
        {
         "hovertemplate": "C=deployment<br>X=%{x}<br>Y=%{y}<br>Z=%{z}<extra></extra>",
         "legendgroup": "deployment",
         "marker": {
          "color": "#19d3f3",
          "symbol": "circle"
         },
         "mode": "markers",
         "name": "deployment",
         "scene": "scene",
         "showlegend": true,
         "type": "scatter3d",
         "x": [
          -0.6012676505012444
         ],
         "y": [
          -0.01218757262814078
         ],
         "z": [
          -1.045239296256962
         ]
        },
        {
         "hovertemplate": "C=based<br>X=%{x}<br>Y=%{y}<br>Z=%{z}<extra></extra>",
         "legendgroup": "based",
         "marker": {
          "color": "#FF6692",
          "symbol": "circle"
         },
         "mode": "markers",
         "name": "based",
         "scene": "scene",
         "showlegend": true,
         "type": "scatter3d",
         "x": [
          -2.0057706219995315
         ],
         "y": [
          -1.4191581010608327
         ],
         "z": [
          -1.1587093247557856
         ]
        },
        {
         "hovertemplate": "C=service<br>X=%{x}<br>Y=%{y}<br>Z=%{z}<extra></extra>",
         "legendgroup": "service",
         "marker": {
          "color": "#B6E880",
          "symbol": "circle"
         },
         "mode": "markers",
         "name": "service",
         "scene": "scene",
         "showlegend": true,
         "type": "scatter3d",
         "x": [
          -1.2050933929665621
         ],
         "y": [
          0.022075186852022432
         ],
         "z": [
          -1.2749620720074841
         ]
        },
        {
         "hovertemplate": "C=chapter<br>X=%{x}<br>Y=%{y}<br>Z=%{z}<extra></extra>",
         "legendgroup": "chapter",
         "marker": {
          "color": "#FF97FF",
          "symbol": "circle"
         },
         "mode": "markers",
         "name": "chapter",
         "scene": "scene",
         "showlegend": true,
         "type": "scatter3d",
         "x": [
          2.3029922568345826
         ],
         "y": [
          -0.2037024159414535
         ],
         "z": [
          -0.8739883184318411
         ]
        },
        {
         "hovertemplate": "C=how<br>X=%{x}<br>Y=%{y}<br>Z=%{z}<extra></extra>",
         "legendgroup": "how",
         "marker": {
          "color": "#FECB52",
          "symbol": "circle"
         },
         "mode": "markers",
         "name": "how",
         "scene": "scene",
         "showlegend": true,
         "type": "scatter3d",
         "x": [
          2.5975189610135336
         ],
         "y": [
          -1.0333147815222294
         ],
         "z": [
          -0.35678519920485974
         ]
        },
        {
         "hovertemplate": "C=add<br>X=%{x}<br>Y=%{y}<br>Z=%{z}<extra></extra>",
         "legendgroup": "add",
         "marker": {
          "color": "#636efa",
          "symbol": "circle"
         },
         "mode": "markers",
         "name": "add",
         "scene": "scene",
         "showlegend": true,
         "type": "scatter3d",
         "x": [
          0.5684183588393721
         ],
         "y": [
          1.3273774787617172
         ],
         "z": [
          -1.035118146322317
         ]
        },
        {
         "hovertemplate": "C=need<br>X=%{x}<br>Y=%{y}<br>Z=%{z}<extra></extra>",
         "legendgroup": "need",
         "marker": {
          "color": "#EF553B",
          "symbol": "circle"
         },
         "mode": "markers",
         "name": "need",
         "scene": "scene",
         "showlegend": true,
         "type": "scatter3d",
         "x": [
          2.222400175301572
         ],
         "y": [
          -0.6261919921972188
         ],
         "z": [
          -0.42588608691522706
         ]
        },
        {
         "hovertemplate": "C=following<br>X=%{x}<br>Y=%{y}<br>Z=%{z}<extra></extra>",
         "legendgroup": "following",
         "marker": {
          "color": "#00cc96",
          "symbol": "circle"
         },
         "mode": "markers",
         "name": "following",
         "scene": "scene",
         "showlegend": true,
         "type": "scatter3d",
         "x": [
          0.20148898816614594
         ],
         "y": [
          0.8130801624982229
         ],
         "z": [
          -0.24084606795758828
         ]
        },
        {
         "hovertemplate": "C=https<br>X=%{x}<br>Y=%{y}<br>Z=%{z}<extra></extra>",
         "legendgroup": "https",
         "marker": {
          "color": "#ab63fa",
          "symbol": "circle"
         },
         "mode": "markers",
         "name": "https",
         "scene": "scene",
         "showlegend": true,
         "type": "scatter3d",
         "x": [
          -0.847394775432116
         ],
         "y": [
          -0.7307973578457164
         ],
         "z": [
          2.5596290833839004
         ]
        },
        {
         "hovertemplate": "C=next<br>X=%{x}<br>Y=%{y}<br>Z=%{z}<extra></extra>",
         "legendgroup": "next",
         "marker": {
          "color": "#FFA15A",
          "symbol": "circle"
         },
         "mode": "markers",
         "name": "next",
         "scene": "scene",
         "showlegend": true,
         "type": "scatter3d",
         "x": [
          2.1017957131955294
         ],
         "y": [
          0.15826985633476373
         ],
         "z": [
          -1.18940510404271
         ]
        },
        {
         "hovertemplate": "C=used<br>X=%{x}<br>Y=%{y}<br>Z=%{z}<extra></extra>",
         "legendgroup": "used",
         "marker": {
          "color": "#19d3f3",
          "symbol": "circle"
         },
         "mode": "markers",
         "name": "used",
         "scene": "scene",
         "showlegend": true,
         "type": "scatter3d",
         "x": [
          0.05470137940440325
         ],
         "y": [
          -0.5370438943830573
         ],
         "z": [
          0.6112694585583316
         ]
        },
        {
         "hovertemplate": "C=here<br>X=%{x}<br>Y=%{y}<br>Z=%{z}<extra></extra>",
         "legendgroup": "here",
         "marker": {
          "color": "#FF6692",
          "symbol": "circle"
         },
         "mode": "markers",
         "name": "here",
         "scene": "scene",
         "showlegend": true,
         "type": "scatter3d",
         "x": [
          0.10099681609373523
         ],
         "y": [
          0.2926882894598267
         ],
         "z": [
          0.9524032776984999
         ]
        },
        {
         "hovertemplate": "C=run<br>X=%{x}<br>Y=%{y}<br>Z=%{z}<extra></extra>",
         "legendgroup": "run",
         "marker": {
          "color": "#B6E880",
          "symbol": "circle"
         },
         "mode": "markers",
         "name": "run",
         "scene": "scene",
         "showlegend": true,
         "type": "scatter3d",
         "x": [
          0.3127603727967787
         ],
         "y": [
          0.34076856336616806
         ],
         "z": [
          -0.6796478507776729
         ]
        },
        {
         "hovertemplate": "C=name<br>X=%{x}<br>Y=%{y}<br>Z=%{z}<extra></extra>",
         "legendgroup": "name",
         "marker": {
          "color": "#FF97FF",
          "symbol": "circle"
         },
         "mode": "markers",
         "name": "name",
         "scene": "scene",
         "showlegend": true,
         "type": "scatter3d",
         "x": [
          -0.41149106140811953
         ],
         "y": [
          0.4266924534844997
         ],
         "z": [
          -0.6558087330646805
         ]
        },
        {
         "hovertemplate": "C=see<br>X=%{x}<br>Y=%{y}<br>Z=%{z}<extra></extra>",
         "legendgroup": "see",
         "marker": {
          "color": "#FECB52",
          "symbol": "circle"
         },
         "mode": "markers",
         "name": "see",
         "scene": "scene",
         "showlegend": true,
         "type": "scatter3d",
         "x": [
          2.3026554614200005
         ],
         "y": [
          -0.8243936163485257
         ],
         "z": [
          0.0020345973802316335
         ]
        },
        {
         "hovertemplate": "C=select<br>X=%{x}<br>Y=%{y}<br>Z=%{z}<extra></extra>",
         "legendgroup": "select",
         "marker": {
          "color": "#636efa",
          "symbol": "circle"
         },
         "mode": "markers",
         "name": "select",
         "scene": "scene",
         "showlegend": true,
         "type": "scatter3d",
         "x": [
          -0.029539044593943516
         ],
         "y": [
          1.3191016318866047
         ],
         "z": [
          0.29006342334219093
         ]
        },
        {
         "hovertemplate": "C=then<br>X=%{x}<br>Y=%{y}<br>Z=%{z}<extra></extra>",
         "legendgroup": "then",
         "marker": {
          "color": "#EF553B",
          "symbol": "circle"
         },
         "mode": "markers",
         "name": "then",
         "scene": "scene",
         "showlegend": true,
         "type": "scatter3d",
         "x": [
          0.6162363976526511
         ],
         "y": [
          1.2685419295140525
         ],
         "z": [
          0.36387701316492005
         ]
        },
        {
         "hovertemplate": "C=different<br>X=%{x}<br>Y=%{y}<br>Z=%{z}<extra></extra>",
         "legendgroup": "different",
         "marker": {
          "color": "#00cc96",
          "symbol": "circle"
         },
         "mode": "markers",
         "name": "different",
         "scene": "scene",
         "showlegend": true,
         "type": "scatter3d",
         "x": [
          1.1881133999529312
         ],
         "y": [
          -0.2043143920788269
         ],
         "z": [
          1.3496440857330965
         ]
        },
        {
         "hovertemplate": "C=figure<br>X=%{x}<br>Y=%{y}<br>Z=%{z}<extra></extra>",
         "legendgroup": "figure",
         "marker": {
          "color": "#ab63fa",
          "symbol": "circle"
         },
         "mode": "markers",
         "name": "figure",
         "scene": "scene",
         "showlegend": true,
         "type": "scatter3d",
         "x": [
          -0.9426214379465239
         ],
         "y": [
          2.945062879408083
         ],
         "z": [
          -2.188635956378217
         ]
        },
        {
         "hovertemplate": "C=ll<br>X=%{x}<br>Y=%{y}<br>Z=%{z}<extra></extra>",
         "legendgroup": "ll",
         "marker": {
          "color": "#FFA15A",
          "symbol": "circle"
         },
         "mode": "markers",
         "name": "ll",
         "scene": "scene",
         "showlegend": true,
         "type": "scatter3d",
         "x": [
          3.5640725504444135
         ],
         "y": [
          -1.2007451076403444
         ],
         "z": [
          -1.2642134581879199
         ]
        },
        {
         "hovertemplate": "C=created<br>X=%{x}<br>Y=%{y}<br>Z=%{z}<extra></extra>",
         "legendgroup": "created",
         "marker": {
          "color": "#19d3f3",
          "symbol": "circle"
         },
         "mode": "markers",
         "name": "created",
         "scene": "scene",
         "showlegend": true,
         "type": "scatter3d",
         "x": [
          1.5253978945592812
         ],
         "y": [
          -0.1640064028935105
         ],
         "z": [
          -0.524252328951703
         ]
        },
        {
         "hovertemplate": "C=task<br>X=%{x}<br>Y=%{y}<br>Z=%{z}<extra></extra>",
         "legendgroup": "task",
         "marker": {
          "color": "#FF6692",
          "symbol": "circle"
         },
         "mode": "markers",
         "name": "task",
         "scene": "scene",
         "showlegend": true,
         "type": "scatter3d",
         "x": [
          0.3925997236261228
         ],
         "y": [
          0.9453814798442549
         ],
         "z": [
          -1.3827128263234154
         ]
        },
        {
         "hovertemplate": "C=click<br>X=%{x}<br>Y=%{y}<br>Z=%{z}<extra></extra>",
         "legendgroup": "click",
         "marker": {
          "color": "#B6E880",
          "symbol": "circle"
         },
         "mode": "markers",
         "name": "click",
         "scene": "scene",
         "showlegend": true,
         "type": "scatter3d",
         "x": [
          0.008247321840868438
         ],
         "y": [
          2.240894426712448
         ],
         "z": [
          -1.477095896690514
         ]
        }
       ],
       "layout": {
        "legend": {
         "title": {
          "text": "C"
         },
         "tracegroupgap": 0
        },
        "margin": {
         "t": 60
        },
        "scene": {
         "domain": {
          "x": [
           0,
           1
          ],
          "y": [
           0,
           1
          ]
         },
         "xaxis": {
          "title": {
           "text": "X"
          }
         },
         "yaxis": {
          "title": {
           "text": "Y"
          }
         },
         "zaxis": {
          "title": {
           "text": "Z"
          }
         }
        },
        "template": {
         "data": {
          "bar": [
           {
            "error_x": {
             "color": "#2a3f5f"
            },
            "error_y": {
             "color": "#2a3f5f"
            },
            "marker": {
             "line": {
              "color": "#E5ECF6",
              "width": 0.5
             },
             "pattern": {
              "fillmode": "overlay",
              "size": 10,
              "solidity": 0.2
             }
            },
            "type": "bar"
           }
          ],
          "barpolar": [
           {
            "marker": {
             "line": {
              "color": "#E5ECF6",
              "width": 0.5
             },
             "pattern": {
              "fillmode": "overlay",
              "size": 10,
              "solidity": 0.2
             }
            },
            "type": "barpolar"
           }
          ],
          "carpet": [
           {
            "aaxis": {
             "endlinecolor": "#2a3f5f",
             "gridcolor": "white",
             "linecolor": "white",
             "minorgridcolor": "white",
             "startlinecolor": "#2a3f5f"
            },
            "baxis": {
             "endlinecolor": "#2a3f5f",
             "gridcolor": "white",
             "linecolor": "white",
             "minorgridcolor": "white",
             "startlinecolor": "#2a3f5f"
            },
            "type": "carpet"
           }
          ],
          "choropleth": [
           {
            "colorbar": {
             "outlinewidth": 0,
             "ticks": ""
            },
            "type": "choropleth"
           }
          ],
          "contour": [
           {
            "colorbar": {
             "outlinewidth": 0,
             "ticks": ""
            },
            "colorscale": [
             [
              0,
              "#0d0887"
             ],
             [
              0.1111111111111111,
              "#46039f"
             ],
             [
              0.2222222222222222,
              "#7201a8"
             ],
             [
              0.3333333333333333,
              "#9c179e"
             ],
             [
              0.4444444444444444,
              "#bd3786"
             ],
             [
              0.5555555555555556,
              "#d8576b"
             ],
             [
              0.6666666666666666,
              "#ed7953"
             ],
             [
              0.7777777777777778,
              "#fb9f3a"
             ],
             [
              0.8888888888888888,
              "#fdca26"
             ],
             [
              1,
              "#f0f921"
             ]
            ],
            "type": "contour"
           }
          ],
          "contourcarpet": [
           {
            "colorbar": {
             "outlinewidth": 0,
             "ticks": ""
            },
            "type": "contourcarpet"
           }
          ],
          "heatmap": [
           {
            "colorbar": {
             "outlinewidth": 0,
             "ticks": ""
            },
            "colorscale": [
             [
              0,
              "#0d0887"
             ],
             [
              0.1111111111111111,
              "#46039f"
             ],
             [
              0.2222222222222222,
              "#7201a8"
             ],
             [
              0.3333333333333333,
              "#9c179e"
             ],
             [
              0.4444444444444444,
              "#bd3786"
             ],
             [
              0.5555555555555556,
              "#d8576b"
             ],
             [
              0.6666666666666666,
              "#ed7953"
             ],
             [
              0.7777777777777778,
              "#fb9f3a"
             ],
             [
              0.8888888888888888,
              "#fdca26"
             ],
             [
              1,
              "#f0f921"
             ]
            ],
            "type": "heatmap"
           }
          ],
          "heatmapgl": [
           {
            "colorbar": {
             "outlinewidth": 0,
             "ticks": ""
            },
            "colorscale": [
             [
              0,
              "#0d0887"
             ],
             [
              0.1111111111111111,
              "#46039f"
             ],
             [
              0.2222222222222222,
              "#7201a8"
             ],
             [
              0.3333333333333333,
              "#9c179e"
             ],
             [
              0.4444444444444444,
              "#bd3786"
             ],
             [
              0.5555555555555556,
              "#d8576b"
             ],
             [
              0.6666666666666666,
              "#ed7953"
             ],
             [
              0.7777777777777778,
              "#fb9f3a"
             ],
             [
              0.8888888888888888,
              "#fdca26"
             ],
             [
              1,
              "#f0f921"
             ]
            ],
            "type": "heatmapgl"
           }
          ],
          "histogram": [
           {
            "marker": {
             "pattern": {
              "fillmode": "overlay",
              "size": 10,
              "solidity": 0.2
             }
            },
            "type": "histogram"
           }
          ],
          "histogram2d": [
           {
            "colorbar": {
             "outlinewidth": 0,
             "ticks": ""
            },
            "colorscale": [
             [
              0,
              "#0d0887"
             ],
             [
              0.1111111111111111,
              "#46039f"
             ],
             [
              0.2222222222222222,
              "#7201a8"
             ],
             [
              0.3333333333333333,
              "#9c179e"
             ],
             [
              0.4444444444444444,
              "#bd3786"
             ],
             [
              0.5555555555555556,
              "#d8576b"
             ],
             [
              0.6666666666666666,
              "#ed7953"
             ],
             [
              0.7777777777777778,
              "#fb9f3a"
             ],
             [
              0.8888888888888888,
              "#fdca26"
             ],
             [
              1,
              "#f0f921"
             ]
            ],
            "type": "histogram2d"
           }
          ],
          "histogram2dcontour": [
           {
            "colorbar": {
             "outlinewidth": 0,
             "ticks": ""
            },
            "colorscale": [
             [
              0,
              "#0d0887"
             ],
             [
              0.1111111111111111,
              "#46039f"
             ],
             [
              0.2222222222222222,
              "#7201a8"
             ],
             [
              0.3333333333333333,
              "#9c179e"
             ],
             [
              0.4444444444444444,
              "#bd3786"
             ],
             [
              0.5555555555555556,
              "#d8576b"
             ],
             [
              0.6666666666666666,
              "#ed7953"
             ],
             [
              0.7777777777777778,
              "#fb9f3a"
             ],
             [
              0.8888888888888888,
              "#fdca26"
             ],
             [
              1,
              "#f0f921"
             ]
            ],
            "type": "histogram2dcontour"
           }
          ],
          "mesh3d": [
           {
            "colorbar": {
             "outlinewidth": 0,
             "ticks": ""
            },
            "type": "mesh3d"
           }
          ],
          "parcoords": [
           {
            "line": {
             "colorbar": {
              "outlinewidth": 0,
              "ticks": ""
             }
            },
            "type": "parcoords"
           }
          ],
          "pie": [
           {
            "automargin": true,
            "type": "pie"
           }
          ],
          "scatter": [
           {
            "marker": {
             "colorbar": {
              "outlinewidth": 0,
              "ticks": ""
             }
            },
            "type": "scatter"
           }
          ],
          "scatter3d": [
           {
            "line": {
             "colorbar": {
              "outlinewidth": 0,
              "ticks": ""
             }
            },
            "marker": {
             "colorbar": {
              "outlinewidth": 0,
              "ticks": ""
             }
            },
            "type": "scatter3d"
           }
          ],
          "scattercarpet": [
           {
            "marker": {
             "colorbar": {
              "outlinewidth": 0,
              "ticks": ""
             }
            },
            "type": "scattercarpet"
           }
          ],
          "scattergeo": [
           {
            "marker": {
             "colorbar": {
              "outlinewidth": 0,
              "ticks": ""
             }
            },
            "type": "scattergeo"
           }
          ],
          "scattergl": [
           {
            "marker": {
             "colorbar": {
              "outlinewidth": 0,
              "ticks": ""
             }
            },
            "type": "scattergl"
           }
          ],
          "scattermapbox": [
           {
            "marker": {
             "colorbar": {
              "outlinewidth": 0,
              "ticks": ""
             }
            },
            "type": "scattermapbox"
           }
          ],
          "scatterpolar": [
           {
            "marker": {
             "colorbar": {
              "outlinewidth": 0,
              "ticks": ""
             }
            },
            "type": "scatterpolar"
           }
          ],
          "scatterpolargl": [
           {
            "marker": {
             "colorbar": {
              "outlinewidth": 0,
              "ticks": ""
             }
            },
            "type": "scatterpolargl"
           }
          ],
          "scatterternary": [
           {
            "marker": {
             "colorbar": {
              "outlinewidth": 0,
              "ticks": ""
             }
            },
            "type": "scatterternary"
           }
          ],
          "surface": [
           {
            "colorbar": {
             "outlinewidth": 0,
             "ticks": ""
            },
            "colorscale": [
             [
              0,
              "#0d0887"
             ],
             [
              0.1111111111111111,
              "#46039f"
             ],
             [
              0.2222222222222222,
              "#7201a8"
             ],
             [
              0.3333333333333333,
              "#9c179e"
             ],
             [
              0.4444444444444444,
              "#bd3786"
             ],
             [
              0.5555555555555556,
              "#d8576b"
             ],
             [
              0.6666666666666666,
              "#ed7953"
             ],
             [
              0.7777777777777778,
              "#fb9f3a"
             ],
             [
              0.8888888888888888,
              "#fdca26"
             ],
             [
              1,
              "#f0f921"
             ]
            ],
            "type": "surface"
           }
          ],
          "table": [
           {
            "cells": {
             "fill": {
              "color": "#EBF0F8"
             },
             "line": {
              "color": "white"
             }
            },
            "header": {
             "fill": {
              "color": "#C8D4E3"
             },
             "line": {
              "color": "white"
             }
            },
            "type": "table"
           }
          ]
         },
         "layout": {
          "annotationdefaults": {
           "arrowcolor": "#2a3f5f",
           "arrowhead": 0,
           "arrowwidth": 1
          },
          "autotypenumbers": "strict",
          "coloraxis": {
           "colorbar": {
            "outlinewidth": 0,
            "ticks": ""
           }
          },
          "colorscale": {
           "diverging": [
            [
             0,
             "#8e0152"
            ],
            [
             0.1,
             "#c51b7d"
            ],
            [
             0.2,
             "#de77ae"
            ],
            [
             0.3,
             "#f1b6da"
            ],
            [
             0.4,
             "#fde0ef"
            ],
            [
             0.5,
             "#f7f7f7"
            ],
            [
             0.6,
             "#e6f5d0"
            ],
            [
             0.7,
             "#b8e186"
            ],
            [
             0.8,
             "#7fbc41"
            ],
            [
             0.9,
             "#4d9221"
            ],
            [
             1,
             "#276419"
            ]
           ],
           "sequential": [
            [
             0,
             "#0d0887"
            ],
            [
             0.1111111111111111,
             "#46039f"
            ],
            [
             0.2222222222222222,
             "#7201a8"
            ],
            [
             0.3333333333333333,
             "#9c179e"
            ],
            [
             0.4444444444444444,
             "#bd3786"
            ],
            [
             0.5555555555555556,
             "#d8576b"
            ],
            [
             0.6666666666666666,
             "#ed7953"
            ],
            [
             0.7777777777777778,
             "#fb9f3a"
            ],
            [
             0.8888888888888888,
             "#fdca26"
            ],
            [
             1,
             "#f0f921"
            ]
           ],
           "sequentialminus": [
            [
             0,
             "#0d0887"
            ],
            [
             0.1111111111111111,
             "#46039f"
            ],
            [
             0.2222222222222222,
             "#7201a8"
            ],
            [
             0.3333333333333333,
             "#9c179e"
            ],
            [
             0.4444444444444444,
             "#bd3786"
            ],
            [
             0.5555555555555556,
             "#d8576b"
            ],
            [
             0.6666666666666666,
             "#ed7953"
            ],
            [
             0.7777777777777778,
             "#fb9f3a"
            ],
            [
             0.8888888888888888,
             "#fdca26"
            ],
            [
             1,
             "#f0f921"
            ]
           ]
          },
          "colorway": [
           "#636efa",
           "#EF553B",
           "#00cc96",
           "#ab63fa",
           "#FFA15A",
           "#19d3f3",
           "#FF6692",
           "#B6E880",
           "#FF97FF",
           "#FECB52"
          ],
          "font": {
           "color": "#2a3f5f"
          },
          "geo": {
           "bgcolor": "white",
           "lakecolor": "white",
           "landcolor": "#E5ECF6",
           "showlakes": true,
           "showland": true,
           "subunitcolor": "white"
          },
          "hoverlabel": {
           "align": "left"
          },
          "hovermode": "closest",
          "mapbox": {
           "style": "light"
          },
          "paper_bgcolor": "white",
          "plot_bgcolor": "#E5ECF6",
          "polar": {
           "angularaxis": {
            "gridcolor": "white",
            "linecolor": "white",
            "ticks": ""
           },
           "bgcolor": "#E5ECF6",
           "radialaxis": {
            "gridcolor": "white",
            "linecolor": "white",
            "ticks": ""
           }
          },
          "scene": {
           "xaxis": {
            "backgroundcolor": "#E5ECF6",
            "gridcolor": "white",
            "gridwidth": 2,
            "linecolor": "white",
            "showbackground": true,
            "ticks": "",
            "zerolinecolor": "white"
           },
           "yaxis": {
            "backgroundcolor": "#E5ECF6",
            "gridcolor": "white",
            "gridwidth": 2,
            "linecolor": "white",
            "showbackground": true,
            "ticks": "",
            "zerolinecolor": "white"
           },
           "zaxis": {
            "backgroundcolor": "#E5ECF6",
            "gridcolor": "white",
            "gridwidth": 2,
            "linecolor": "white",
            "showbackground": true,
            "ticks": "",
            "zerolinecolor": "white"
           }
          },
          "shapedefaults": {
           "line": {
            "color": "#2a3f5f"
           }
          },
          "ternary": {
           "aaxis": {
            "gridcolor": "white",
            "linecolor": "white",
            "ticks": ""
           },
           "baxis": {
            "gridcolor": "white",
            "linecolor": "white",
            "ticks": ""
           },
           "bgcolor": "#E5ECF6",
           "caxis": {
            "gridcolor": "white",
            "linecolor": "white",
            "ticks": ""
           }
          },
          "title": {
           "x": 0.05
          },
          "xaxis": {
           "automargin": true,
           "gridcolor": "white",
           "linecolor": "white",
           "ticks": "",
           "title": {
            "standoff": 15
           },
           "zerolinecolor": "white",
           "zerolinewidth": 2
          },
          "yaxis": {
           "automargin": true,
           "gridcolor": "white",
           "linecolor": "white",
           "ticks": "",
           "title": {
            "standoff": 15
           },
           "zerolinecolor": "white",
           "zerolinewidth": 2
          }
         }
        }
       }
      }
     },
     "metadata": {},
     "output_type": "display_data"
    }
   ],
   "source": [
    "from sklearn.decomposition import PCA\n",
    "\n",
    "def reduceDim(X,new_dim=3):\n",
    "    pca = PCA(n_components=new_dim)\n",
    "    pca.fit(X)\n",
    "    X_new = pca.transform(X)\n",
    "    return X_new\n",
    "\n",
    "X = np.random.rand(50,100)\n",
    "print(X.shape)\n",
    "\n",
    "\n",
    "X_new = reduceDim(X)\n",
    "print(X_new.shape)\n",
    "\n",
    "def sampleWords(E,W2I,wordsToSample):\n",
    "    indx = [W2I[word] for word in wordsToSample]\n",
    "    E_sampled = E[indx,:]\n",
    "    return E_sampled\n",
    "\n",
    "wordsToSample = ['azure', 'devops', 'with', 'and', 'your', 'all', 'of', 'this', 'be', 'in' ,'a' ,'or',\n",
    " 'by', 'the', 'to', 'is' ,'s' ,'will' ,'for' ,'have' ,'use' ,'development',\n",
    " 'project', '1', '3', 'com' ,'our' ,'as', 'you' ,'from', '4', 'that' ,'can' ,'at',\n",
    " 'are', 'on', 'also', 'up', 'microsoft', 'an' ,'it' ,'now', 'work', 'using',\n",
    " 'application', '6', 'new', 'if' ,'we' ,'section' ,'2', 'create', '5' ,'ci' ,'cd',\n",
    " 'control', 'code', 'boards', 'pipelines' ,'test', 'artifacts', 'creating',\n",
    " 'organization', 'items', 'source', 'github', 'repository' ,'pull' ,'request',\n",
    " 'branch' ,'visual', 'studio' ,'release', 'build' ,'agents', 'hosted' ,'when',\n",
    " 'agent' ,'pipeline', 'stage', 'container' ,'testing' ,'setting', 'set',\n",
    " 'package', 'deployment', 'based', 'service' ,'chapter', 'how' ,'add' ,'need',\n",
    " 'following', 'https', 'next' ,'used', 'here', 'run', 'name', 'see', 'select',\n",
    " 'then', 'different', 'figure', 'll', 'created', 'task', 'click']\n",
    "\n",
    "E_sampled = sampleWords(E,W2I,wordsToSample)\n",
    "\n",
    "print(E_sampled.shape)\n",
    "\n",
    "E_sampled_new = reduceDim(E_sampled)\n",
    "\n",
    "print(E_sampled_new.shape)\n",
    "\n",
    "\n",
    "import plotly.express as px\n",
    "import pandas as pd\n",
    "\n",
    "def plot3D(X,Y,Z,labels):\n",
    "    df = pd.DataFrame({'X':X,'Y':Y,'Z':Z,'C':labels})\n",
    "    fig = px.scatter_3d(df,x='X',y='Y',z='Z',color='C')\n",
    "    fig.show()\n",
    "\n",
    "plot3D(E_sampled_new[:,0],E_sampled_new[:,1],E_sampled_new[:,2],wordsToSample)"
   ]
  }
 ],
 "metadata": {
  "interpreter": {
   "hash": "2db524e06e9f5f4ffedc911c917cb75e12dbc923643829bf417064a77eb14d37"
  },
  "kernelspec": {
   "display_name": "Python 3.8.5 64-bit",
   "language": "python",
   "name": "python3"
  },
  "language_info": {
   "codemirror_mode": {
    "name": "ipython",
    "version": 3
   },
   "file_extension": ".py",
   "mimetype": "text/x-python",
   "name": "python",
   "nbconvert_exporter": "python",
   "pygments_lexer": "ipython3",
   "version": "3.8.5"
  },
  "orig_nbformat": 4
 },
 "nbformat": 4,
 "nbformat_minor": 2
}
