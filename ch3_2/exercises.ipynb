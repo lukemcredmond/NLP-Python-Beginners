{
 "cells": [
  {
   "cell_type": "markdown",
   "source": [
    "get the count of digits in string"
   ],
   "metadata": {}
  },
  {
   "cell_type": "code",
   "execution_count": 2,
   "source": [
    "import re\r\n",
    "print(len(re.findall('[0-9]','123sdsd675_!')))\r\n"
   ],
   "outputs": [
    {
     "output_type": "stream",
     "name": "stdout",
     "text": [
      "6\n"
     ]
    }
   ],
   "metadata": {}
  },
  {
   "cell_type": "markdown",
   "source": [
    "check if a string contains 4 consecutive digits"
   ],
   "metadata": {}
  },
  {
   "cell_type": "code",
   "execution_count": 6,
   "source": [
    "len(re.findall('[0-9]{4}','12dsdsa2345asdasdas234567ssssss')) > 0\r\n"
   ],
   "outputs": [
    {
     "output_type": "execute_result",
     "data": {
      "text/plain": [
       "True"
      ]
     },
     "metadata": {},
     "execution_count": 6
    }
   ],
   "metadata": {}
  },
  {
   "cell_type": "markdown",
   "source": [
    "given a list of strings, return a list where the item does not contain any character from the set\r\n",
    "{:,\",{,},(,),@,#,&}"
   ],
   "metadata": {}
  },
  {
   "cell_type": "code",
   "execution_count": 8,
   "source": [
    "documents = ['test 1','test, 2','test : 3','test ) 4','test 5','test']\r\n",
    "regexp = '[0-9:\"{}()@#&]'\r\n",
    "\r\n",
    "for item in documents:\r\n",
    "    if len(re.findall(regexp,item)) > 0:\r\n",
    "        pass\r\n",
    "    else:\r\n",
    "        print(item)\r\n"
   ],
   "outputs": [
    {
     "output_type": "stream",
     "name": "stdout",
     "text": [
      "test\n"
     ]
    }
   ],
   "metadata": {}
  },
  {
   "cell_type": "code",
   "execution_count": 9,
   "source": [
    "documents = ['test 1','test, 2','test : 3','test ) 4','test 5','test']\r\n",
    "regexp = '[^0-9:\"{}()@#&]'\r\n",
    "\r\n",
    "for item in documents:\r\n",
    "    if len(re.findall(regexp,item)) == len(item):\r\n",
    "        print(item)"
   ],
   "outputs": [
    {
     "output_type": "stream",
     "name": "stdout",
     "text": [
      "test\n"
     ]
    }
   ],
   "metadata": {}
  },
  {
   "cell_type": "markdown",
   "source": [
    "the backslashes\r\n",
    "\r\n",
    "\\ is a special char, can be used in regex and can be used to escape another special character"
   ],
   "metadata": {}
  },
  {
   "cell_type": "code",
   "execution_count": 15,
   "source": [
    "strline = '\\jdijdijdij [line\\] iojidjdij \\jdijdid'\r\n",
    "regexp = '[\\\\\\]'\r\n",
    "\r\n",
    "print(len(re.findall(regexp,strline)))"
   ],
   "outputs": [
    {
     "output_type": "stream",
     "name": "stdout",
     "text": [
      "3\n"
     ]
    }
   ],
   "metadata": {}
  },
  {
   "cell_type": "markdown",
   "source": [
    "raw string example, count \\ and [] in string"
   ],
   "metadata": {}
  },
  {
   "cell_type": "code",
   "execution_count": 17,
   "source": [
    "strline = r'\\n jdijdijdij [line\\] \\diojidjdij \\\\\\jdijdid \\n'\r\n",
    "regexp = '[\\\\\\\\[\\]]'\r\n",
    "\r\n",
    "print(len(re.findall(regexp,strline)))"
   ],
   "outputs": [
    {
     "output_type": "stream",
     "name": "stdout",
     "text": [
      "9\n"
     ]
    }
   ],
   "metadata": {}
  },
  {
   "cell_type": "markdown",
   "source": [
    "count all \\section in a latex document below"
   ],
   "metadata": {}
  },
  {
   "cell_type": "code",
   "execution_count": 18,
   "source": [
    "strline = r'\\n for new [line, ] \\section and \\document and \\\\\\section \\n'\r\n",
    "regexp = '\\\\\\section'\r\n",
    "\r\n",
    "print(len(re.findall(regexp,strline)))"
   ],
   "outputs": [
    {
     "output_type": "stream",
     "name": "stdout",
     "text": [
      "2\n"
     ]
    }
   ],
   "metadata": {}
  },
  {
   "cell_type": "markdown",
   "source": [
    "Count the number of spaces, digits and underscores in a document"
   ],
   "metadata": {}
  },
  {
   "cell_type": "code",
   "execution_count": 20,
   "source": [
    "strline = r'\\n for new [line, ] \\section and \\document and \\\\\\section 9 _\\n'\r\n",
    "regexp = '[\\d\\s_]'\r\n",
    "\r\n",
    "print(len(re.findall(regexp,strline)))"
   ],
   "outputs": [
    {
     "output_type": "stream",
     "name": "stdout",
     "text": [
      "13\n"
     ]
    }
   ],
   "metadata": {}
  },
  {
   "cell_type": "markdown",
   "source": [
    "Asterisk *\r\n",
    "\r\n",
    "given a string list all the longest possible substring \r\n",
    "\r\n",
    "doesnt start with a digit, \r\n",
    "not special chars expect _\r\n"
   ],
   "metadata": {}
  },
  {
   "cell_type": "code",
   "execution_count": 9,
   "source": [
    "strline = r'sadsdas;sdsdasdsd_asdsada@sdasds0{}1sadsdsaslpdlsplpslpdalspsdap';\r\n",
    "#regexp = \"\\w*\";\r\n",
    "regexp = '[a-zA-Z_]\\w*'\r\n",
    "\r\n",
    "print(re.findall(regexp,strline))\r\n",
    "\r\n",
    "\r\n"
   ],
   "outputs": [
    {
     "output_type": "stream",
     "name": "stdout",
     "text": [
      "['sadsdas', 'sdsdasdsd_asdsada', 'sdasds0', 'sadsdsaslpdlsplpslpdalspsdap']\n"
     ]
    }
   ],
   "metadata": {}
  },
  {
   "cell_type": "markdown",
   "source": [
    "Given a list of variables and function names\r\n",
    "findout it all the variables names and functions are valid or not\r\n",
    "\r\n",
    "print the invalid names"
   ],
   "metadata": {}
  },
  {
   "cell_type": "code",
   "execution_count": 12,
   "source": [
    "variables = ['test1','2test,2','test:3','test_4','test5','test)']\r\n",
    "regexp = '[a-zA-Z_]\\w*'\r\n",
    "\r\n",
    "for item in variables:\r\n",
    "    m = re.findall(regexp,item)\r\n",
    "    if len(m[0]) != len(item):\r\n",
    "        print(item)"
   ],
   "outputs": [
    {
     "output_type": "stream",
     "name": "stdout",
     "text": [
      "2test,2\n",
      "test:3\n",
      "test)\n"
     ]
    }
   ],
   "metadata": {}
  },
  {
   "cell_type": "markdown",
   "source": [
    "Plus, Question mark and curley brackets\r\n",
    "+ & ?\r\n",
    "\r\n",
    "+ at least one\r\n",
    "? 0 or 1 time\r\n",
    "\r\n",
    "[a-z]{2,5} a-z at least 2 but no more than 5"
   ],
   "metadata": {}
  },
  {
   "cell_type": "markdown",
   "source": [
    "list all substrings in a document that contain at least 2 digits and at most 5"
   ],
   "metadata": {}
  },
  {
   "cell_type": "code",
   "execution_count": 14,
   "source": [
    "strline = r'sadsdas;sdsdasdsd_asdsada@sdasds0{}1sadsdsaslpdl223splp1slpda098lsps1231243434dap';\r\n",
    "#regexp = \"\\w*\";\r\n",
    "regexp = '[0-9]{2,5}'\r\n",
    "\r\n",
    "print(re.findall(regexp,strline))"
   ],
   "outputs": [
    {
     "output_type": "stream",
     "name": "stdout",
     "text": [
      "['223', '098', '12312', '43434']\n"
     ]
    }
   ],
   "metadata": {}
  }
 ],
 "metadata": {
  "orig_nbformat": 4,
  "language_info": {
   "name": "python",
   "version": "3.8.5",
   "mimetype": "text/x-python",
   "codemirror_mode": {
    "name": "ipython",
    "version": 3
   },
   "pygments_lexer": "ipython3",
   "nbconvert_exporter": "python",
   "file_extension": ".py"
  },
  "kernelspec": {
   "name": "python3",
   "display_name": "Python 3.8.5 64-bit"
  },
  "interpreter": {
   "hash": "2db524e06e9f5f4ffedc911c917cb75e12dbc923643829bf417064a77eb14d37"
  }
 },
 "nbformat": 4,
 "nbformat_minor": 2
}