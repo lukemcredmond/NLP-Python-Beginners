{
 "cells": [
  {
   "cell_type": "markdown",
   "metadata": {},
   "source": [
    "# Chapter 11\n",
    "\n",
    "String Matching and spelling Correction\n",
    "\n",
    "checking if word is in dictionary if not use method that calculates cost between two words\n",
    "\n",
    "Levenshtein as an example "
   ]
  },
  {
   "cell_type": "code",
   "execution_count": 3,
   "metadata": {},
   "outputs": [
    {
     "name": "stdout",
     "output_type": "stream",
     "text": [
      "24.0\n"
     ]
    }
   ],
   "source": [
    "import numpy as np\n",
    "\n",
    "def computeMED(X,Y,delCost=1,insCost=1,subCost=2):\n",
    "    M = len(X)+1\n",
    "    N = len(Y)+1\n",
    "    D = np.zeros((M,N))\n",
    "    for i in range(M):\n",
    "        D[i,0] = i*delCost\n",
    "    for j in range(N):\n",
    "        D[0,j] = j*insCost\n",
    "    for i in range(1,M):\n",
    "        for j in range(1,N):\n",
    "            afterDel = D[i-1,j] + delCost\n",
    "            afterIns = D[i,j-1] + insCost\n",
    "            if X[i-1] == Y[j-1]:\n",
    "                afterSub = D[i-1,j-1] + 0\n",
    "            else:\n",
    "                afterSub = D[i-1,j-1] + subCost\n",
    "            D[i,j] = min(afterDel,afterIns,afterSub)\n",
    "    return D[M-1,N-1]\n",
    "\n",
    "X = 'INTENTION ASDKJOIELA'\n",
    "Y = 'EXECUTION OS SOMETHING'\n",
    "print(computeMED(X,Y))"
   ]
  },
  {
   "cell_type": "code",
   "execution_count": 6,
   "metadata": {},
   "outputs": [],
   "source": [
    "import spacy\n",
    "import editdistance\n",
    "\n",
    "nlp = spacy.load('en_core_web_sm')\n",
    "L = list(nlp.vocab.strings)\n"
   ]
  },
  {
   "cell_type": "code",
   "execution_count": 8,
   "metadata": {},
   "outputs": [
    {
     "name": "stdout",
     "output_type": "stream",
     "text": [
      "You have typed :   rubbish\n",
      "The correct word is :   rubbish\n"
     ]
    }
   ],
   "source": [
    "\n",
    "#len(L)\n",
    "\n",
    "def correctSpellings(word,L):\n",
    "    MED = [editdistance.eval(word,L[i]) for i in range(len(L))]\n",
    "    return L[np.argmin(MED)]\n",
    "\n",
    "word = input('Type a word here:  ')\n",
    "print('You have typed :  ',word)\n",
    "print('The correct word is :  ',correctSpellings(word,L))"
   ]
  }
 ],
 "metadata": {
  "interpreter": {
   "hash": "2db524e06e9f5f4ffedc911c917cb75e12dbc923643829bf417064a77eb14d37"
  },
  "kernelspec": {
   "display_name": "Python 3.8.5 64-bit",
   "name": "python3"
  },
  "language_info": {
   "codemirror_mode": {
    "name": "ipython",
    "version": 3
   },
   "file_extension": ".py",
   "mimetype": "text/x-python",
   "name": "python",
   "nbconvert_exporter": "python",
   "pygments_lexer": "ipython3",
   "version": "3.8.5"
  },
  "orig_nbformat": 4
 },
 "nbformat": 4,
 "nbformat_minor": 2
}
