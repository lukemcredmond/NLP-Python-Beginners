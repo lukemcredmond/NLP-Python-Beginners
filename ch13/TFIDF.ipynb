{
 "cells": [
  {
   "cell_type": "markdown",
   "metadata": {},
   "source": [
    "#Topic Modeling with TFIDF real world Example\n",
    "\n",
    "doc -> topic\n",
    "doc2 -> topic 2\n",
    "\n",
    "\n",
    "doc 3 -> whats its topic"
   ]
  },
  {
   "cell_type": "code",
   "execution_count": 1,
   "metadata": {},
   "outputs": [
    {
     "data": {
      "text/plain": [
       "(1663, 25692)"
      ]
     },
     "execution_count": 1,
     "metadata": {},
     "output_type": "execute_result"
    }
   ],
   "source": [
    "from sklearn.datasets import fetch_20newsgroups as getData\n",
    "from sklearn.feature_extraction.text import CountVectorizer\n",
    "from sklearn.feature_extraction.text import TfidfTransformer\n",
    "from sklearn.naive_bayes import GaussianNB as NB\n",
    "\n",
    "\n",
    "def loadCorpus():\n",
    "    corpus = getData(subset = 'train',\n",
    "                    remove=('header','footer','quotes'),\n",
    "                    categories=['alt.atheism',\n",
    "                               'comp.graphics',\n",
    "                               'soc.religion.christian'])\n",
    "    return corpus\n",
    "\n",
    "#build a TFIDF Model\n",
    "def buildTFIDFModel(docs):\n",
    "    cv = CountVectorizer()\n",
    "    ct = cv.fit(docs)#returns term freq\n",
    "    counts = ct.transform(docs)\n",
    "    tfidf = TfidfTransformer().fit(counts)\n",
    "    return ct,tfidf\n",
    "\n",
    "def computeTFIDFFeatures(docs,ct,tfidf):\n",
    "    counts = ct.transform(docs)\n",
    "    xF = tfidf.transform(counts)\n",
    "    return xF.toarray()\n",
    "\n",
    "corpus = loadCorpus()\n",
    "ct,tfidf = buildTFIDFModel(corpus.data)\n",
    "xF = computeTFIDFFeatures(corpus.data,ct,tfidf)\n",
    "xF.shape"
   ]
  },
  {
   "cell_type": "code",
   "execution_count": 8,
   "metadata": {},
   "outputs": [
    {
     "name": "stdout",
     "output_type": "stream",
     "text": [
      "[0 1 0]\n",
      "comp.graphics\n"
     ]
    }
   ],
   "source": [
    "corpus.target_names\n",
    "#['alt.atheism', 'comp.graphics', 'soc.religion.christian']\n",
    "corpus.target_names[corpus.target[100]]\n",
    "#'comp.graphics'\n",
    "\n",
    "clf = NB().fit(xF,corpus.target)\n",
    "\n",
    "docs_new = ['God loves everyone',\n",
    "           'OpenGL works fast',\n",
    "           'No one is there']\n",
    "xF_new = computeTFIDFFeatures(docs_new,ct,tfidf)\n",
    "xF_new.shape\n",
    "#(3, 25692)\n",
    "predicted = clf.predict(xF_new)\n",
    "print(predicted)\n",
    "print(corpus.target_names[predicted[1]])"
   ]
  }
 ],
 "metadata": {
  "interpreter": {
   "hash": "2db524e06e9f5f4ffedc911c917cb75e12dbc923643829bf417064a77eb14d37"
  },
  "kernelspec": {
   "display_name": "Python 3.8.5 64-bit",
   "language": "python",
   "name": "python3"
  },
  "language_info": {
   "codemirror_mode": {
    "name": "ipython",
    "version": 3
   },
   "file_extension": ".py",
   "mimetype": "text/x-python",
   "name": "python",
   "nbconvert_exporter": "python",
   "pygments_lexer": "ipython3",
   "version": "3.8.5"
  },
  "orig_nbformat": 4
 },
 "nbformat": 4,
 "nbformat_minor": 2
}
