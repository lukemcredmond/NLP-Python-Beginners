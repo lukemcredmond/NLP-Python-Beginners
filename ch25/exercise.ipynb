{
 "cells": [
  {
   "cell_type": "markdown",
   "metadata": {},
   "source": [
    "#Chapter 25\n",
    "\n",
    "Encoder - decoder \n",
    "\n",
    "\n",
    "input -> encoder -> input encoding or representation -> decoder -> output\n",
    "\n",
    "no code in this chapter.\n",
    "\n",
    ":("
   ]
  }
 ],
 "metadata": {
  "language_info": {
   "name": "python"
  },
  "orig_nbformat": 4
 },
 "nbformat": 4,
 "nbformat_minor": 2
}
