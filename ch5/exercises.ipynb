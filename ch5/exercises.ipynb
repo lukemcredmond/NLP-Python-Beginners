{
 "cells": [
  {
   "cell_type": "markdown",
   "source": [
    "Logical OR |\r\n",
    "used when you want to have multi conditional patterns"
   ],
   "metadata": {}
  },
  {
   "cell_type": "markdown",
   "source": [
    "^ when in a class its used as a not [^12345] any character that is not in the list\r\n",
    "\r\n",
    "it can also be used in string search to indicate it most start with\r\n",
    "'^from'"
   ],
   "metadata": {}
  },
  {
   "cell_type": "markdown",
   "source": [
    "$ matches at the end of a string"
   ],
   "metadata": {}
  },
  {
   "cell_type": "markdown",
   "source": [
    "\r\n",
    "( ) makes a group\r\n",
    "\r\n",
    "\r\n",
    "p = re.complie('(the)+');\r\n",
    "\r\n",
    "This would find one or more the\r\n",
    "\r\n",
    "m = p.seach(stringlne)"
   ],
   "metadata": {}
  }
 ],
 "metadata": {
  "orig_nbformat": 4,
  "language_info": {
   "name": "python",
   "version": "3.8.5"
  },
  "kernelspec": {
   "name": "python3",
   "display_name": "Python 3.8.5 64-bit"
  },
  "interpreter": {
   "hash": "2db524e06e9f5f4ffedc911c917cb75e12dbc923643829bf417064a77eb14d37"
  }
 },
 "nbformat": 4,
 "nbformat_minor": 2
}