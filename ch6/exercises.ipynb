{
 "cells": [
  {
   "cell_type": "markdown",
   "source": [
    "String Modification\r\n",
    "split() -> splits string into list\r\n",
    "sub() -> replace the match in the string\r\n",
    "subn() -> replace the match and returns new string"
   ],
   "metadata": {}
  },
  {
   "cell_type": "code",
   "execution_count": 1,
   "source": [
    "import re\r\n",
    "p = re.compile('\\W+')\r\n",
    "p.split('This test, ** \\\\ is short and sweet,, ... words 23523__ ##asdfe')"
   ],
   "outputs": [
    {
     "output_type": "execute_result",
     "data": {
      "text/plain": [
       "['This', 'test', 'is', 'short', 'and', 'sweet', 'words', '23523__', 'asdfe']"
      ]
     },
     "metadata": {},
     "execution_count": 1
    }
   ],
   "metadata": {}
  },
  {
   "cell_type": "markdown",
   "source": [
    "Replace all colours with the word colour in a string"
   ],
   "metadata": {}
  },
  {
   "cell_type": "code",
   "execution_count": 6,
   "source": [
    "p = re.compile('(blue\\s|white\\s|red\\s)+')\r\n",
    "print(p.sub('colour ','he wore red white shoes and blue socks in the whitehouse'));"
   ],
   "outputs": [
    {
     "output_type": "stream",
     "name": "stdout",
     "text": [
      "he wore colour shoes and colour socks in the whitehouse\n"
     ]
    }
   ],
   "metadata": {}
  },
  {
   "cell_type": "markdown",
   "source": [
    "Replace multi whitespace characters into a single one and remove whitespace at beging"
   ],
   "metadata": {}
  },
  {
   "cell_type": "code",
   "execution_count": 17,
   "source": [
    "strline = '    abc      asd \\t asda;    aioje       asda e   aa   e aba      ';\r\n",
    "\r\n",
    "p = re.compile('\\s+')\r\n",
    "strline = p.sub(' ',strline);\r\n",
    "\r\n",
    "s = re.compile('^\\s|\\s$')\r\n",
    "\r\n",
    "print(s.sub('',strline));"
   ],
   "outputs": [
    {
     "output_type": "stream",
     "name": "stdout",
     "text": [
      "abc asd asda; aioje asda e aa e aba\n"
     ]
    }
   ],
   "metadata": {}
  },
  {
   "cell_type": "markdown",
   "source": [],
   "metadata": {}
  }
 ],
 "metadata": {
  "orig_nbformat": 4,
  "language_info": {
   "name": "python",
   "version": "3.8.5",
   "mimetype": "text/x-python",
   "codemirror_mode": {
    "name": "ipython",
    "version": 3
   },
   "pygments_lexer": "ipython3",
   "nbconvert_exporter": "python",
   "file_extension": ".py"
  },
  "kernelspec": {
   "name": "python3",
   "display_name": "Python 3.8.5 64-bit"
  },
  "interpreter": {
   "hash": "2db524e06e9f5f4ffedc911c917cb75e12dbc923643829bf417064a77eb14d37"
  }
 },
 "nbformat": 4,
 "nbformat_minor": 2
}