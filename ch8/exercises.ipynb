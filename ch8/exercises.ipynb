{
 "cells": [
  {
   "cell_type": "markdown",
   "source": [
    "#Chapter 8\r\n",
    "\r\n",
    "building a review classification tool"
   ],
   "metadata": {}
  },
  {
   "cell_type": "code",
   "execution_count": 1,
   "source": [
    "import spacy\r\n",
    "import re\r\n",
    "\r\n",
    "nlp = spacy.load('en_core_web_sm')\r\n",
    "L = list(nlp.vocab.strings)\r\n"
   ],
   "outputs": [],
   "metadata": {}
  },
  {
   "cell_type": "markdown",
   "source": [
    "Example"
   ],
   "metadata": {}
  },
  {
   "cell_type": "code",
   "execution_count": 2,
   "source": [
    "import numpy as np\r\n",
    "import pandas as pd\r\n",
    "from collections import Counter\r\n",
    "import re\r\n",
    "import json"
   ],
   "outputs": [],
   "metadata": {}
  },
  {
   "cell_type": "code",
   "execution_count": 3,
   "source": [
    "\r\n",
    "\r\n",
    "#with open('F:\\\\Users\\\\Luke\\\\Documents\\\\Git\\\\NPL\\\\NLP-Python-Beginners\\\\data\\\\yelp_academic_dataset_review.json', encoding=\"utf8\") as json_file:      \r\n",
    "#    data = json_file.readlines()\r\n",
    "#    # this line below may take at least 8-10 minutes of processing for 4-5 million rows. It converts all strings in list to actual json objects. \r\n",
    "#    data = list(map(json.loads, data)) \r\n",
    "\r\n",
    "#df = pd.DataFrame(data)\r\n",
    "\r\n",
    "\r\n",
    "#dont have csv\r\n",
    "df = pd.read_csv('F:\\\\Users\\\\Luke\\\\Documents\\\\Git\\\\NPL\\\\NLP-Python-Beginners\\\\data\\\\Womens Clothing E-Commerce Reviews.csv');\r\n",
    "\r\n",
    "\r\n",
    "#print(df)\r\n",
    "\r\n",
    "#print(df.head());\r\n",
    "\r\n",
    "#df.tail();\r\n",
    "\r\n",
    "vocab = {};\r\n",
    "\r\n",
    "\r\n",
    "\r\n",
    "\r\n",
    "def initializeVocabulary():\r\n",
    "    unknownToken = '<UNKNOWN_TOKEN>'\r\n",
    "    vocab['t_2_i'] = {}\r\n",
    "    vocab['i_2_t'] = {}\r\n",
    "    vocab['UNKNOWN_TOKEN'] = unknownToken;\r\n",
    "    idx = addToken(unknownToken)\r\n",
    "    vocab['UNKNOWN_TOKEN_INDEX'] = idx;\r\n",
    "\r\n",
    "def addToken(token):\r\n",
    "    if token in vocab['t_2_i']:\r\n",
    "        idx = vocab['t_2_i'][token]\r\n",
    "    else:\r\n",
    "        idx = len(vocab['t_2_i'])\r\n",
    "        vocab['t_2_i'][token] = idx\r\n",
    "        vocab['i_2_t'][idx] = token\r\n",
    "    return idx\r\n",
    "\r\n",
    "def AddManyTokens(tokens):\r\n",
    "    idxes = [addToken(token) for token in tokens];\r\n",
    "    return idxes;\r\n",
    "def lookupToken(token):\r\n",
    "    if vocab['UNKNOWN_TOKEN_INDEX'] >= 0:\r\n",
    "        return vocab['t_2_i'].get(token,vocab['UNKNOWN_TOKEN_INDEX'])\r\n",
    "    else:\r\n",
    "        return vocab['t_2_i'][token]\r\n",
    "def lookupIndex(index):\r\n",
    "    if index not in vocab['i_2_t']:\r\n",
    "        raise KeyError(\"the index (%d) is not there\" %index)\r\n",
    "    return vocab['i_2_t'][index]\r\n",
    "def vocabularyFromDataFrame(dataFrame,dataFrameCell='review',cutoff=25):\r\n",
    "    initializeVocabulary()\r\n",
    "    wordCounts = Counter()\r\n",
    "    #df[dataFrameCell].fillna('').apply(str)\r\n",
    "\r\n",
    "    for data in dataFrame[dataFrameCell].fillna('').apply(str):\r\n",
    "        m = re.split('\\W+',data)\r\n",
    "        if(m != None):\r\n",
    "            for word in m:\r\n",
    "                wordCounts[word] += 1;\r\n",
    "    for word,count in wordCounts.items():\r\n",
    "        if count > cutoff:\r\n",
    "            addToken(word)\r\n",
    "\r\n",
    "def vocabularyFromCorpus(corpus,cutoff=25):\r\n",
    "    initializeVocabulary()\r\n",
    "    wordCounts = Counter()\r\n",
    "    #df[dataFrameCell].fillna('').apply(str)\r\n",
    "\r\n",
    "    for data in corpus:\r\n",
    "        m = re.split('\\W+',data)\r\n",
    "        if(m != None):\r\n",
    "            for word in m:\r\n",
    "                wordCounts[word] += 1;\r\n",
    "    for word,count in wordCounts.items():\r\n",
    "        if count > cutoff:\r\n",
    "            addToken(word)\r\n",
    "\r\n",
    "#vocabularyFromDataFrame(df,'Review Text');\r\n",
    "\r\n",
    "Corpus = np.asarray(df['Review Text'].fillna('').apply(str))\r\n",
    "vocabularyFromCorpus(Corpus)\r\n",
    "\r\n",
    "theIndex = lookupToken('the');\r\n",
    "print(theIndex);\r\n",
    "print(lookupIndex(theIndex));\r\n"
   ],
   "outputs": [
    {
     "output_type": "stream",
     "name": "stdout",
     "text": [
      "36\n",
      "the\n"
     ]
    }
   ],
   "metadata": {}
  },
  {
   "cell_type": "markdown",
   "source": [
    "One Hot Encoding\r\n",
    "\r\n",
    "if len of vocob = 5\r\n",
    "and index of word = 1\r\n",
    "[01000]\r\n",
    "of the index of word = 3\r\n",
    "[00010]\r\n",
    "\r\n",
    "etc..."
   ],
   "metadata": {}
  },
  {
   "cell_type": "code",
   "execution_count": 4,
   "source": [
    "def oneHotVector(token,length):\r\n",
    "    oneHot = np.zeros((length,1))\r\n",
    "    oneHot[lookupToken(token)] = 1;\r\n",
    "    return oneHot\r\n",
    "\r\n",
    "vocabLen = len(vocab['t_2_i'])\r\n",
    "token = 'the'\r\n",
    "oneHot = oneHotVector(token,vocabLen)\r\n",
    "\r\n",
    "oneHot"
   ],
   "outputs": [
    {
     "output_type": "execute_result",
     "data": {
      "text/plain": [
       "array([[0.],\n",
       "       [0.],\n",
       "       [0.],\n",
       "       ...,\n",
       "       [0.],\n",
       "       [0.],\n",
       "       [0.]])"
      ]
     },
     "metadata": {},
     "execution_count": 4
    }
   ],
   "metadata": {}
  },
  {
   "cell_type": "markdown",
   "source": [
    "r1: the food is good = \r\n",
    "0100\r\n",
    "0010\r\n",
    "1000\r\n",
    "0001\r\n",
    "r2: we will never visit this place again\r\n"
   ],
   "metadata": {}
  },
  {
   "cell_type": "code",
   "execution_count": 5,
   "source": [
    "def computeFeatures(document,length):\r\n",
    "    isFirst = True\r\n",
    "    print(document);\r\n",
    "    for token in document:\r\n",
    "        oneHot = oneHotVector(token,length)\r\n",
    "        if isFirst:\r\n",
    "            xF = oneHot\r\n",
    "            isFirst = False\r\n",
    "        else:\r\n",
    "            xF = np.hstack((xF,oneHot))\r\n",
    "    return np.mean(xF,axis=1)[:,np.newaxis]\r\n",
    "\r\n",
    "featureVector = computeFeatures(Corpus[0],len(vocab['t_2_i']))\r\n",
    "featureVector.shape"
   ],
   "outputs": [
    {
     "output_type": "stream",
     "name": "stdout",
     "text": [
      "Absolutely wonderful - silky and sexy and comfortable\n"
     ]
    },
    {
     "output_type": "execute_result",
     "data": {
      "text/plain": [
       "(2278, 1)"
      ]
     },
     "metadata": {},
     "execution_count": 5
    }
   ],
   "metadata": {}
  },
  {
   "cell_type": "code",
   "execution_count": 10,
   "source": [
    "#reload data for clean start\r\n",
    "df = pd.read_csv('F:\\\\Users\\\\Luke\\\\Documents\\\\Git\\\\NPL\\\\NLP-Python-Beginners\\\\data\\\\Womens Clothing E-Commerce Reviews.csv');"
   ],
   "outputs": [],
   "metadata": {}
  },
  {
   "cell_type": "code",
   "execution_count": 38,
   "source": [
    "vocab = {};\r\n",
    "def corpusToFeatureMatrix(corpus,length):\r\n",
    "    isFirst = True\r\n",
    "    for doc in corpus:\r\n",
    "        if(len(doc) > 0):\r\n",
    "            fv = computeFeatures(doc,length)\r\n",
    "            if isFirst:\r\n",
    "                fM = fv\r\n",
    "                isFirst = False\r\n",
    "            else:\r\n",
    "                fM = np.hstack((fM,fv))\r\n",
    "        return fM.T\r\n",
    "\r\n",
    "def computeFeatures_fast(doc,N):\r\n",
    "    fv = np.zeros(N)\r\n",
    "    numTokens = 0\r\n",
    "    for token in doc:\r\n",
    "        fv[lookupToken(token)] += 1\r\n",
    "        numTokens += 1\r\n",
    "    return fv/numTokens\r\n",
    "\r\n",
    "def corpusToFeatureMatrix_fast(Corpus,N):\r\n",
    "    fM = np.zeros((N,len(Corpus)))\r\n",
    "    i = 0\r\n",
    "    for doc in Corpus:\r\n",
    "        fM[:,i] = computeFeatures_fast(doc,N)\r\n",
    "        i+=1\r\n",
    "    return fM.T\r\n",
    "\r\n",
    "def clean_dataset(df):\r\n",
    "    assert isinstance(df, pd.DataFrame), \"df needs to be a pd.DataFrame\"\r\n",
    "    df.dropna(inplace=True)\r\n",
    "    indices_to_keep = ~df.isin([np.nan, np.inf, -np.inf]).any(1)\r\n",
    "    print(indices_to_keep)\r\n",
    "    return df[indices_to_keep].astype(np.float64)\r\n",
    "\r\n",
    "##df = clean_dataset(df);\r\n",
    "\r\n",
    "conditions = [\r\n",
    "    df['Rating'] >= 4,\r\n",
    "    df['Rating'] == 3,\r\n",
    "    df['Rating'] <= 2,\r\n",
    "]\r\n",
    "\r\n",
    "values = ['Positive', 'Neutral', 'Negative']\r\n",
    "df['Target'] = np.select(conditions, values)\r\n",
    "\r\n",
    "reviewsX = np.asarray(df['Review Text'].fillna('').apply(str))\r\n",
    "ratingsY = np.asarray(df['Target'].fillna('Neutral').apply(str))\r\n",
    "\r\n",
    "#index = 0\r\n",
    "#for i in ratingsY:\r\n",
    "#    if i == np.nan:\r\n",
    "#        print(index, i)\r\n",
    "#    index +=1\r\n",
    "\r\n",
    "\r\n",
    "from sklearn.model_selection import train_test_split\r\n",
    "Xtrain,Xtest,Ytrain,YTest = train_test_split(reviewsX,ratingsY,test_size=0.3,shuffle=True)\r\n",
    "\r\n",
    "\r\n",
    "\r\n",
    "vocabularyFromCorpus(Xtrain)\r\n",
    "N = len(vocab['t_2_i'])\r\n",
    "Xtrain_fM = corpusToFeatureMatrix_fast(Xtrain,N)\r\n",
    "Xtest_fM = corpusToFeatureMatrix_fast(Xtest,N)\r\n",
    "\r\n",
    "#print(Xtrain_fM)\r\n",
    "\r\n",
    "\r\n",
    "if np.any(np.isnan(Xtrain_fM)):\r\n",
    "    print(\"Xtrain_fM has Nan\")\r\n",
    "\r\n",
    "print(Xtrain_fM.shape)\r\n",
    "#should get the same dimensionality (....,x) \r\n",
    "# x should be the same in both\r\n",
    "print(Xtest_fM.shape)"
   ],
   "outputs": [
    {
     "output_type": "stream",
     "name": "stdout",
     "text": [
      "(13763, 1822)\n",
      "(5899, 1822)\n"
     ]
    }
   ],
   "metadata": {}
  },
  {
   "cell_type": "code",
   "execution_count": 39,
   "source": [
    "#from sklearn.linear_model import LogisticRegression as clf\r\n",
    "#from sklearn.naive_bayes import GaussianNB as clf\r\n",
    "#from sklearn.ensemble import RandomForestClassifier as clf\r\n",
    "\r\n",
    "from sklearn.svm import SVC as clf\r\n",
    "from sklearn.metrics import confusion_matrix\r\n",
    "import seaborn as sns\r\n",
    "from matplotlib import pyplot as plt\r\n",
    "sns.set()\r\n",
    "\r\n",
    "\r\n",
    "\r\n",
    "\r\n",
    "\r\n",
    "\r\n",
    "M = clf().fit(Xtrain_fM,Ytrain)\r\n",
    "\r\n",
    "y_pred = M.predict(Xtest_fM)\r\n",
    "\r\n",
    "\r\n",
    "mat = confusion_matrix(YTest,y_pred)\r\n",
    "sns.heatmap(mat.T,square=True,annot=True,fmt='d',cbar=False,\r\n",
    "           xticklabels=np.unique(ratingsY),yticklabels=np.unique(ratingsY))\r\n",
    "plt.xlabel(\"True Label\")\r\n",
    "plt.ylabel(\"Predicted Label\")"
   ],
   "outputs": [
    {
     "output_type": "execute_result",
     "data": {
      "text/plain": [
       "Text(89.133125, 0.5, 'Predicted Label')"
      ]
     },
     "metadata": {},
     "execution_count": 39
    },
    {
     "output_type": "display_data",
     "data": {
      "image/png": "[encoded data removed]",
      "text/plain": [
       "<Figure size 432x288 with 1 Axes>"
      ]
     },
     "metadata": {}
    }
   ],
   "metadata": {}
  }
 ],
 "metadata": {
  "orig_nbformat": 4,
  "language_info": {
   "name": "python",
   "version": "3.8.5",
   "mimetype": "text/x-python",
   "codemirror_mode": {
    "name": "ipython",
    "version": 3
   },
   "pygments_lexer": "ipython3",
   "nbconvert_exporter": "python",
   "file_extension": ".py"
  },
  "kernelspec": {
   "name": "python3",
   "display_name": "Python 3.8.5 64-bit"
  },
  "interpreter": {
   "hash": "2db524e06e9f5f4ffedc911c917cb75e12dbc923643829bf417064a77eb14d37"
  }
 },
 "nbformat": 4,
 "nbformat_minor": 2
}