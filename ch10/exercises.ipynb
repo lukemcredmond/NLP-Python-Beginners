{
 "cells": [
  {
   "cell_type": "markdown",
   "source": [
    "# Chapter 10\r\n",
    "\r\n",
    "PreProcessing issues\r\n",
    "\r\n",
    "same words represented in different ways can have a impact on your outcome\r\n",
    "\r\n",
    "USA -> U.S.A.\r\n",
    "fed -> Fed\r\n",
    "\r\n",
    "Lemmatization\r\n",
    "\r\n",
    "\r\n"
   ],
   "metadata": {}
  },
  {
   "cell_type": "code",
   "execution_count": 1,
   "source": [
    "import spacy\r\n",
    "\r\n",
    "nlp = spacy.load('en_core_web_sm')\r\n",
    "\r\n",
    "proc = nlp('He is reading books with other students while eating meal.')\r\n",
    "\r\n",
    "for token in proc:\r\n",
    "    print(token.text,token.lemma_,token.is_stop)"
   ],
   "outputs": [
    {
     "output_type": "stream",
     "name": "stdout",
     "text": [
      "He he True\n",
      "is be True\n",
      "reading read False\n",
      "books book False\n",
      "with with True\n",
      "other other True\n",
      "students student False\n",
      "while while True\n",
      "eating eat False\n",
      "meal meal False\n",
      ". . False\n"
     ]
    }
   ],
   "metadata": {}
  },
  {
   "cell_type": "markdown",
   "source": [
    "Stemming\r\n",
    "\r\n",
    "root extract from the word\r\n",
    "getting the small meaningfull unit that make up words\r\n",
    "\r\n",
    "Stems: the core meaning\r\n",
    "Affixes: parts that adhere to stems\r\n",
    "\r\n",
    "Ational -> ate relational -> relate\r\n",
    "ing -> null -> motoring -> motor\r\n",
    "sses -> ss grasses -> grass"
   ],
   "metadata": {}
  },
  {
   "cell_type": "markdown",
   "source": [
    "Sentence Segmantation\r\n",
    "\r\n",
    "-abbreviation dictionary   "
   ],
   "metadata": {}
  },
  {
   "cell_type": "code",
   "execution_count": 2,
   "source": [
    "txt = 'This is the first sentence. However, all the other Ph.D. students are working on , say, second sentence.'\r\n",
    "proc = nlp(txt)\r\n",
    "for s in proc.sents:\r\n",
    "    print(s.text)"
   ],
   "outputs": [
    {
     "output_type": "stream",
     "name": "stdout",
     "text": [
      "This is the first sentence.\n",
      "However, all the other Ph.D. students are working on , say, second sentence.\n"
     ]
    }
   ],
   "metadata": {}
  }
 ],
 "metadata": {
  "orig_nbformat": 4,
  "language_info": {
   "name": "python",
   "version": "3.8.5",
   "mimetype": "text/x-python",
   "codemirror_mode": {
    "name": "ipython",
    "version": 3
   },
   "pygments_lexer": "ipython3",
   "nbconvert_exporter": "python",
   "file_extension": ".py"
  },
  "kernelspec": {
   "name": "python3",
   "display_name": "Python 3.8.5 64-bit"
  },
  "interpreter": {
   "hash": "2db524e06e9f5f4ffedc911c917cb75e12dbc923643829bf417064a77eb14d37"
  }
 },
 "nbformat": 4,
 "nbformat_minor": 2
}