{
 "cells": [
  {
   "cell_type": "markdown",
   "source": [
    "#Text Processing\r\n",
    "\r\n",
    "do you count punctuation, & words not in the dictionary? its task dependant \r\n",
    "Corpus -> large body of text\r\n",
    "Vocabulary -> unique words in the Corpus\r\n",
    "\r\n",
    "Tokens -> List of words in a document includes replicated words"
   ],
   "metadata": {}
  },
  {
   "cell_type": "markdown",
   "source": [
    "#install spacy and download trained pipeline\r\n",
    "pip install -U setuptools wheel\r\n",
    "pip install -U spacy\r\n",
    "python -m spacy download en_core_web_sm"
   ],
   "metadata": {}
  },
  {
   "cell_type": "code",
   "execution_count": 5,
   "source": [
    "import spacy\r\n",
    "import re\r\n",
    "\r\n",
    "nlp = spacy.load('en_core_web_sm')\r\n",
    "textToParse = 'On November 29th, 2018 Microsoft entered the arena of AI on browsers with the announcement for ONNX.js, their open-source library to run ONNX models on browsers. This is yet another option for web developers for running ML models on browsers and build amazing user experiences on the web.';\r\n",
    "\r\n",
    "stats = nlp(textToParse)\r\n",
    "\r\n",
    "for token in stats:\r\n",
    "    print(token.text)"
   ],
   "outputs": [
    {
     "output_type": "stream",
     "name": "stdout",
     "text": [
      "On\n",
      "November\n",
      "29th\n",
      ",\n",
      "2018\n",
      "Microsoft\n",
      "entered\n",
      "the\n",
      "arena\n",
      "of\n",
      "AI\n",
      "on\n",
      "browsers\n",
      "with\n",
      "the\n",
      "announcement\n",
      "for\n",
      "ONNX.js\n",
      ",\n",
      "their\n",
      "open\n",
      "-\n",
      "source\n",
      "library\n",
      "to\n",
      "run\n",
      "ONNX\n",
      "models\n",
      "on\n",
      "browsers\n",
      ".\n",
      "This\n",
      "is\n",
      "yet\n",
      "another\n",
      "option\n",
      "for\n",
      "web\n",
      "developers\n",
      "for\n",
      "running\n",
      "ML\n",
      "models\n",
      "on\n",
      "browsers\n",
      "and\n",
      "build\n",
      "amazing\n",
      "user\n",
      "experiences\n",
      "on\n",
      "the\n",
      "web\n",
      ".\n"
     ]
    }
   ],
   "metadata": {}
  }
 ],
 "metadata": {
  "orig_nbformat": 4,
  "language_info": {
   "name": "python",
   "version": "3.8.5",
   "mimetype": "text/x-python",
   "codemirror_mode": {
    "name": "ipython",
    "version": 3
   },
   "pygments_lexer": "ipython3",
   "nbconvert_exporter": "python",
   "file_extension": ".py"
  },
  "kernelspec": {
   "name": "python3",
   "display_name": "Python 3.8.5 64-bit"
  },
  "interpreter": {
   "hash": "2db524e06e9f5f4ffedc911c917cb75e12dbc923643829bf417064a77eb14d37"
  }
 },
 "nbformat": 4,
 "nbformat_minor": 2
}